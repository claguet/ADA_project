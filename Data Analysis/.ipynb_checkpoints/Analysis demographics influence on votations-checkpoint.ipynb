{
 "cells": [
  {
   "cell_type": "code",
   "execution_count": 2,
   "metadata": {
    "collapsed": true
   },
   "outputs": [],
   "source": [
    "import numpy as np\n",
    "import pandas as pd\n",
    "import math\n",
    "import matplotlib.pyplot as plt\n",
    "from sklearn.ensemble import RandomForestClassifier\n",
    "from sklearn.preprocessing import LabelEncoder\n",
    "from sklearn.cross_validation import KFold\n",
    "from sklearn.learning_curve import learning_curve\n",
    "from sklearn.preprocessing import scale\n",
    "from sklearn.cluster import KMeans\n",
    "from sklearn.metrics import silhouette_score\n",
    "%matplotlib inline\n",
    "from scipy import stats\n",
    "from sklearn import datasets\n",
    "from sklearn import linear_model\n",
    "from sklearn import feature_selection\n"
   ]
  },
  {
   "cell_type": "markdown",
   "metadata": {},
   "source": [
    "# Studying the influence of demographics informations on the votations outcome"
   ]
  },
  {
   "cell_type": "markdown",
   "metadata": {},
   "source": [
    "## Step 1 : import and select the data to use"
   ]
  },
  {
   "cell_type": "code",
   "execution_count": 3,
   "metadata": {
    "collapsed": false
   },
   "outputs": [],
   "source": [
    "# import votations outcome\n",
    "vot_outcome=pd.read_csv('../Data/Votation/Results_votations',index_col=[0,1])"
   ]
  },
  {
   "cell_type": "code",
   "execution_count": 4,
   "metadata": {
    "collapsed": false
   },
   "outputs": [
    {
     "data": {
      "text/html": [
       "<div>\n",
       "<table border=\"1\" class=\"dataframe\">\n",
       "  <thead>\n",
       "    <tr style=\"text-align: right;\">\n",
       "      <th></th>\n",
       "      <th>Outcome</th>\n",
       "      <th>Won</th>\n",
       "      <th>Right_won</th>\n",
       "      <th>Left_won</th>\n",
       "      <th>Recom_right</th>\n",
       "      <th>Recom_left</th>\n",
       "      <th>percent_won</th>\n",
       "    </tr>\n",
       "    <tr>\n",
       "      <th>Unnamed: 1</th>\n",
       "      <th></th>\n",
       "      <th></th>\n",
       "      <th></th>\n",
       "      <th></th>\n",
       "      <th></th>\n",
       "      <th></th>\n",
       "      <th></th>\n",
       "    </tr>\n",
       "  </thead>\n",
       "  <tbody>\n",
       "    <tr>\n",
       "      <th>554</th>\n",
       "      <td>1</td>\n",
       "      <td>2</td>\n",
       "      <td>-1</td>\n",
       "      <td>1</td>\n",
       "      <td>-1</td>\n",
       "      <td>1</td>\n",
       "      <td>50.4</td>\n",
       "    </tr>\n",
       "    <tr>\n",
       "      <th>555</th>\n",
       "      <td>1</td>\n",
       "      <td>2</td>\n",
       "      <td>-1</td>\n",
       "      <td>1</td>\n",
       "      <td>-1</td>\n",
       "      <td>1</td>\n",
       "      <td>52.5</td>\n",
       "    </tr>\n",
       "    <tr>\n",
       "      <th>556</th>\n",
       "      <td>-1</td>\n",
       "      <td>2</td>\n",
       "      <td>-1</td>\n",
       "      <td>1</td>\n",
       "      <td>1</td>\n",
       "      <td>-1</td>\n",
       "      <td>61.7</td>\n",
       "    </tr>\n",
       "    <tr>\n",
       "      <th>557</th>\n",
       "      <td>-1</td>\n",
       "      <td>1</td>\n",
       "      <td>1</td>\n",
       "      <td>-1</td>\n",
       "      <td>-1</td>\n",
       "      <td>1</td>\n",
       "      <td>66.4</td>\n",
       "    </tr>\n",
       "    <tr>\n",
       "      <th>558</th>\n",
       "      <td>1</td>\n",
       "      <td>3</td>\n",
       "      <td>1</td>\n",
       "      <td>1</td>\n",
       "      <td>1</td>\n",
       "      <td>1</td>\n",
       "      <td>87.8</td>\n",
       "    </tr>\n",
       "    <tr>\n",
       "      <th>559</th>\n",
       "      <td>-1</td>\n",
       "      <td>1</td>\n",
       "      <td>1</td>\n",
       "      <td>-1</td>\n",
       "      <td>-1</td>\n",
       "      <td>1</td>\n",
       "      <td>62.5</td>\n",
       "    </tr>\n",
       "    <tr>\n",
       "      <th>560</th>\n",
       "      <td>-1</td>\n",
       "      <td>2</td>\n",
       "      <td>-1</td>\n",
       "      <td>1</td>\n",
       "      <td>1</td>\n",
       "      <td>-1</td>\n",
       "      <td>71.3</td>\n",
       "    </tr>\n",
       "    <tr>\n",
       "      <th>561</th>\n",
       "      <td>-1</td>\n",
       "      <td>3</td>\n",
       "      <td>1</td>\n",
       "      <td>1</td>\n",
       "      <td>-1</td>\n",
       "      <td>-1</td>\n",
       "      <td>73.9</td>\n",
       "    </tr>\n",
       "    <tr>\n",
       "      <th>562</th>\n",
       "      <td>-1</td>\n",
       "      <td>3</td>\n",
       "      <td>1</td>\n",
       "      <td>1</td>\n",
       "      <td>-1</td>\n",
       "      <td>-1</td>\n",
       "      <td>71.9</td>\n",
       "    </tr>\n",
       "    <tr>\n",
       "      <th>563</th>\n",
       "      <td>1</td>\n",
       "      <td>2</td>\n",
       "      <td>-1</td>\n",
       "      <td>1</td>\n",
       "      <td>-1</td>\n",
       "      <td>1</td>\n",
       "      <td>74.3</td>\n",
       "    </tr>\n",
       "    <tr>\n",
       "      <th>564</th>\n",
       "      <td>-1</td>\n",
       "      <td>3</td>\n",
       "      <td>1</td>\n",
       "      <td>1</td>\n",
       "      <td>-1</td>\n",
       "      <td>-1</td>\n",
       "      <td>52.1</td>\n",
       "    </tr>\n",
       "    <tr>\n",
       "      <th>565</th>\n",
       "      <td>-1</td>\n",
       "      <td>1</td>\n",
       "      <td>1</td>\n",
       "      <td>-1</td>\n",
       "      <td>-1</td>\n",
       "      <td>1</td>\n",
       "      <td>67.1</td>\n",
       "    </tr>\n",
       "    <tr>\n",
       "      <th>566</th>\n",
       "      <td>1</td>\n",
       "      <td>3</td>\n",
       "      <td>1</td>\n",
       "      <td>1</td>\n",
       "      <td>1</td>\n",
       "      <td>1</td>\n",
       "      <td>67.2</td>\n",
       "    </tr>\n",
       "    <tr>\n",
       "      <th>567</th>\n",
       "      <td>1</td>\n",
       "      <td>2</td>\n",
       "      <td>-1</td>\n",
       "      <td>1</td>\n",
       "      <td>-1</td>\n",
       "      <td>1</td>\n",
       "      <td>53.6</td>\n",
       "    </tr>\n",
       "    <tr>\n",
       "      <th>568</th>\n",
       "      <td>1</td>\n",
       "      <td>2</td>\n",
       "      <td>-1</td>\n",
       "      <td>1</td>\n",
       "      <td>-1</td>\n",
       "      <td>1</td>\n",
       "      <td>70.2</td>\n",
       "    </tr>\n",
       "    <tr>\n",
       "      <th>569</th>\n",
       "      <td>1</td>\n",
       "      <td>2</td>\n",
       "      <td>-1</td>\n",
       "      <td>1</td>\n",
       "      <td>-1</td>\n",
       "      <td>1</td>\n",
       "      <td>71.3</td>\n",
       "    </tr>\n",
       "    <tr>\n",
       "      <th>570</th>\n",
       "      <td>-1</td>\n",
       "      <td>3</td>\n",
       "      <td>1</td>\n",
       "      <td>1</td>\n",
       "      <td>-1</td>\n",
       "      <td>-1</td>\n",
       "      <td>74.7</td>\n",
       "    </tr>\n",
       "    <tr>\n",
       "      <th>571</th>\n",
       "      <td>1</td>\n",
       "      <td>1</td>\n",
       "      <td>1</td>\n",
       "      <td>-1</td>\n",
       "      <td>1</td>\n",
       "      <td>-1</td>\n",
       "      <td>79.7</td>\n",
       "    </tr>\n",
       "    <tr>\n",
       "      <th>572</th>\n",
       "      <td>-1</td>\n",
       "      <td>1</td>\n",
       "      <td>1</td>\n",
       "      <td>-1</td>\n",
       "      <td>-1</td>\n",
       "      <td>1</td>\n",
       "      <td>71.4</td>\n",
       "    </tr>\n",
       "    <tr>\n",
       "      <th>573</th>\n",
       "      <td>1</td>\n",
       "      <td>3</td>\n",
       "      <td>1</td>\n",
       "      <td>1</td>\n",
       "      <td>1</td>\n",
       "      <td>1</td>\n",
       "      <td>60.5</td>\n",
       "    </tr>\n",
       "    <tr>\n",
       "      <th>574</th>\n",
       "      <td>1</td>\n",
       "      <td>1</td>\n",
       "      <td>1</td>\n",
       "      <td>-1</td>\n",
       "      <td>1</td>\n",
       "      <td>-1</td>\n",
       "      <td>62.6</td>\n",
       "    </tr>\n",
       "    <tr>\n",
       "      <th>575</th>\n",
       "      <td>-1</td>\n",
       "      <td>1</td>\n",
       "      <td>1</td>\n",
       "      <td>-1</td>\n",
       "      <td>-1</td>\n",
       "      <td>1</td>\n",
       "      <td>67.2</td>\n",
       "    </tr>\n",
       "    <tr>\n",
       "      <th>576</th>\n",
       "      <td>-1</td>\n",
       "      <td>3</td>\n",
       "      <td>1</td>\n",
       "      <td>1</td>\n",
       "      <td>-1</td>\n",
       "      <td>-1</td>\n",
       "      <td>61.0</td>\n",
       "    </tr>\n",
       "    <tr>\n",
       "      <th>577</th>\n",
       "      <td>-1</td>\n",
       "      <td>3</td>\n",
       "      <td>1</td>\n",
       "      <td>1</td>\n",
       "      <td>-1</td>\n",
       "      <td>-1</td>\n",
       "      <td>55.7</td>\n",
       "    </tr>\n",
       "    <tr>\n",
       "      <th>578</th>\n",
       "      <td>1</td>\n",
       "      <td>3</td>\n",
       "      <td>1</td>\n",
       "      <td>1</td>\n",
       "      <td>1</td>\n",
       "      <td>1</td>\n",
       "      <td>63.1</td>\n",
       "    </tr>\n",
       "    <tr>\n",
       "      <th>579</th>\n",
       "      <td>-1</td>\n",
       "      <td>3</td>\n",
       "      <td>1</td>\n",
       "      <td>1</td>\n",
       "      <td>-1</td>\n",
       "      <td>-1</td>\n",
       "      <td>70.1</td>\n",
       "    </tr>\n",
       "    <tr>\n",
       "      <th>580</th>\n",
       "      <td>-1</td>\n",
       "      <td>3</td>\n",
       "      <td>1</td>\n",
       "      <td>1</td>\n",
       "      <td>-1</td>\n",
       "      <td>-1</td>\n",
       "      <td>52.7</td>\n",
       "    </tr>\n",
       "    <tr>\n",
       "      <th>581</th>\n",
       "      <td>1</td>\n",
       "      <td>3</td>\n",
       "      <td>1</td>\n",
       "      <td>1</td>\n",
       "      <td>1</td>\n",
       "      <td>1</td>\n",
       "      <td>86.8</td>\n",
       "    </tr>\n",
       "    <tr>\n",
       "      <th>582</th>\n",
       "      <td>1</td>\n",
       "      <td>1</td>\n",
       "      <td>1</td>\n",
       "      <td>-1</td>\n",
       "      <td>1</td>\n",
       "      <td>-1</td>\n",
       "      <td>57.3</td>\n",
       "    </tr>\n",
       "    <tr>\n",
       "      <th>583</th>\n",
       "      <td>-1</td>\n",
       "      <td>1</td>\n",
       "      <td>1</td>\n",
       "      <td>-1</td>\n",
       "      <td>-1</td>\n",
       "      <td>1</td>\n",
       "      <td>74.7</td>\n",
       "    </tr>\n",
       "    <tr>\n",
       "      <th>584</th>\n",
       "      <td>-1</td>\n",
       "      <td>2</td>\n",
       "      <td>-1</td>\n",
       "      <td>1</td>\n",
       "      <td>1</td>\n",
       "      <td>-1</td>\n",
       "      <td>51.3</td>\n",
       "    </tr>\n",
       "    <tr>\n",
       "      <th>585</th>\n",
       "      <td>-1</td>\n",
       "      <td>2</td>\n",
       "      <td>-1</td>\n",
       "      <td>1</td>\n",
       "      <td>1</td>\n",
       "      <td>-1</td>\n",
       "      <td>76.1</td>\n",
       "    </tr>\n",
       "    <tr>\n",
       "      <th>586</th>\n",
       "      <td>-1</td>\n",
       "      <td>1</td>\n",
       "      <td>1</td>\n",
       "      <td>-1</td>\n",
       "      <td>-1</td>\n",
       "      <td>1</td>\n",
       "      <td>67.5</td>\n",
       "    </tr>\n",
       "    <tr>\n",
       "      <th>587</th>\n",
       "      <td>-1</td>\n",
       "      <td>1</td>\n",
       "      <td>1</td>\n",
       "      <td>-1</td>\n",
       "      <td>-1</td>\n",
       "      <td>1</td>\n",
       "      <td>50.9</td>\n",
       "    </tr>\n",
       "    <tr>\n",
       "      <th>588</th>\n",
       "      <td>-1</td>\n",
       "      <td>3</td>\n",
       "      <td>1</td>\n",
       "      <td>1</td>\n",
       "      <td>-1</td>\n",
       "      <td>-1</td>\n",
       "      <td>75.7</td>\n",
       "    </tr>\n",
       "    <tr>\n",
       "      <th>589</th>\n",
       "      <td>-1</td>\n",
       "      <td>3</td>\n",
       "      <td>1</td>\n",
       "      <td>1</td>\n",
       "      <td>-1</td>\n",
       "      <td>-1</td>\n",
       "      <td>79.4</td>\n",
       "    </tr>\n",
       "    <tr>\n",
       "      <th>590</th>\n",
       "      <td>-1</td>\n",
       "      <td>2</td>\n",
       "      <td>-1</td>\n",
       "      <td>1</td>\n",
       "      <td>1</td>\n",
       "      <td>-1</td>\n",
       "      <td>79.6</td>\n",
       "    </tr>\n",
       "    <tr>\n",
       "      <th>591</th>\n",
       "      <td>-1</td>\n",
       "      <td>3</td>\n",
       "      <td>1</td>\n",
       "      <td>1</td>\n",
       "      <td>-1</td>\n",
       "      <td>-1</td>\n",
       "      <td>89.1</td>\n",
       "    </tr>\n",
       "    <tr>\n",
       "      <th>592</th>\n",
       "      <td>1</td>\n",
       "      <td>3</td>\n",
       "      <td>1</td>\n",
       "      <td>1</td>\n",
       "      <td>1</td>\n",
       "      <td>1</td>\n",
       "      <td>64.8</td>\n",
       "    </tr>\n",
       "    <tr>\n",
       "      <th>593</th>\n",
       "      <td>-1</td>\n",
       "      <td>1</td>\n",
       "      <td>1</td>\n",
       "      <td>-1</td>\n",
       "      <td>-1</td>\n",
       "      <td>1</td>\n",
       "      <td>73.4</td>\n",
       "    </tr>\n",
       "    <tr>\n",
       "      <th>594</th>\n",
       "      <td>-1</td>\n",
       "      <td>1</td>\n",
       "      <td>1</td>\n",
       "      <td>-1</td>\n",
       "      <td>-1</td>\n",
       "      <td>1</td>\n",
       "      <td>67.1</td>\n",
       "    </tr>\n",
       "    <tr>\n",
       "      <th>595</th>\n",
       "      <td>-1</td>\n",
       "      <td>1</td>\n",
       "      <td>1</td>\n",
       "      <td>-1</td>\n",
       "      <td>-1</td>\n",
       "      <td>1</td>\n",
       "      <td>52.1</td>\n",
       "    </tr>\n",
       "  </tbody>\n",
       "</table>\n",
       "</div>"
      ],
      "text/plain": [
       "            Outcome  Won  Right_won  Left_won  Recom_right  Recom_left  \\\n",
       "Unnamed: 1                                                               \n",
       "554               1    2         -1         1           -1           1   \n",
       "555               1    2         -1         1           -1           1   \n",
       "556              -1    2         -1         1            1          -1   \n",
       "557              -1    1          1        -1           -1           1   \n",
       "558               1    3          1         1            1           1   \n",
       "559              -1    1          1        -1           -1           1   \n",
       "560              -1    2         -1         1            1          -1   \n",
       "561              -1    3          1         1           -1          -1   \n",
       "562              -1    3          1         1           -1          -1   \n",
       "563               1    2         -1         1           -1           1   \n",
       "564              -1    3          1         1           -1          -1   \n",
       "565              -1    1          1        -1           -1           1   \n",
       "566               1    3          1         1            1           1   \n",
       "567               1    2         -1         1           -1           1   \n",
       "568               1    2         -1         1           -1           1   \n",
       "569               1    2         -1         1           -1           1   \n",
       "570              -1    3          1         1           -1          -1   \n",
       "571               1    1          1        -1            1          -1   \n",
       "572              -1    1          1        -1           -1           1   \n",
       "573               1    3          1         1            1           1   \n",
       "574               1    1          1        -1            1          -1   \n",
       "575              -1    1          1        -1           -1           1   \n",
       "576              -1    3          1         1           -1          -1   \n",
       "577              -1    3          1         1           -1          -1   \n",
       "578               1    3          1         1            1           1   \n",
       "579              -1    3          1         1           -1          -1   \n",
       "580              -1    3          1         1           -1          -1   \n",
       "581               1    3          1         1            1           1   \n",
       "582               1    1          1        -1            1          -1   \n",
       "583              -1    1          1        -1           -1           1   \n",
       "584              -1    2         -1         1            1          -1   \n",
       "585              -1    2         -1         1            1          -1   \n",
       "586              -1    1          1        -1           -1           1   \n",
       "587              -1    1          1        -1           -1           1   \n",
       "588              -1    3          1         1           -1          -1   \n",
       "589              -1    3          1         1           -1          -1   \n",
       "590              -1    2         -1         1            1          -1   \n",
       "591              -1    3          1         1           -1          -1   \n",
       "592               1    3          1         1            1           1   \n",
       "593              -1    1          1        -1           -1           1   \n",
       "594              -1    1          1        -1           -1           1   \n",
       "595              -1    1          1        -1           -1           1   \n",
       "\n",
       "            percent_won  \n",
       "Unnamed: 1               \n",
       "554                50.4  \n",
       "555                52.5  \n",
       "556                61.7  \n",
       "557                66.4  \n",
       "558                87.8  \n",
       "559                62.5  \n",
       "560                71.3  \n",
       "561                73.9  \n",
       "562                71.9  \n",
       "563                74.3  \n",
       "564                52.1  \n",
       "565                67.1  \n",
       "566                67.2  \n",
       "567                53.6  \n",
       "568                70.2  \n",
       "569                71.3  \n",
       "570                74.7  \n",
       "571                79.7  \n",
       "572                71.4  \n",
       "573                60.5  \n",
       "574                62.6  \n",
       "575                67.2  \n",
       "576                61.0  \n",
       "577                55.7  \n",
       "578                63.1  \n",
       "579                70.1  \n",
       "580                52.7  \n",
       "581                86.8  \n",
       "582                57.3  \n",
       "583                74.7  \n",
       "584                51.3  \n",
       "585                76.1  \n",
       "586                67.5  \n",
       "587                50.9  \n",
       "588                75.7  \n",
       "589                79.4  \n",
       "590                79.6  \n",
       "591                89.1  \n",
       "592                64.8  \n",
       "593                73.4  \n",
       "594                67.1  \n",
       "595                52.1  "
      ]
     },
     "execution_count": 4,
     "metadata": {},
     "output_type": "execute_result"
    }
   ],
   "source": [
    "vot_outcome.loc['ZH'].head()"
   ]
  },
  {
   "cell_type": "code",
   "execution_count": 5,
   "metadata": {
    "collapsed": false
   },
   "outputs": [],
   "source": [
    "# import the demographics\n",
    "demographics=pd.read_excel('Tables/Demographic/Clean/all_demographics_mean.xlsx',index_col=0,sheetname='Sheet1',header=[0])"
   ]
  },
  {
   "cell_type": "code",
   "execution_count": 6,
   "metadata": {
    "collapsed": false
   },
   "outputs": [],
   "source": [
    "# drop the rows for switzerland\n",
    "demographics.drop(['Switzerland'],axis=0,inplace=True)\n"
   ]
  },
  {
   "cell_type": "code",
   "execution_count": 7,
   "metadata": {
    "collapsed": false
   },
   "outputs": [
    {
     "data": {
      "text/html": [
       "<div>\n",
       "<table border=\"1\" class=\"dataframe\">\n",
       "  <thead>\n",
       "    <tr style=\"text-align: right;\">\n",
       "      <th></th>\n",
       "      <th>edu_expense_per_hab_2010-2012</th>\n",
       "      <th>edu_expense_percent_total_2010-2012</th>\n",
       "      <th>Age distribution in % 0–19_2014</th>\n",
       "      <th>Age distribution in % 20–64_2014</th>\n",
       "      <th>Age distribution in % 65 years or over_2014</th>\n",
       "      <th>Agricultural area Change in %_1979/85-2004/09</th>\n",
       "      <th>Agricultural area in %_2004/09</th>\n",
       "      <th>Area in km2 4)_2004/09</th>\n",
       "      <th>Arrivals in hotels and spas in 1000_2014</th>\n",
       "      <th>Average length of stay in intensive care (days)_2013</th>\n",
       "      <th>...</th>\n",
       "      <th>pop_age_total_2011-2014</th>\n",
       "      <th>pop_age_swiss_2011-2014</th>\n",
       "      <th>pop_age_foreigner_2011-2014</th>\n",
       "      <th>perm_res_2011-2014</th>\n",
       "      <th>perm_res_change_2004-2014</th>\n",
       "      <th>Single_2011-2014</th>\n",
       "      <th>Married_2011-2014</th>\n",
       "      <th>Divorced_2011-2014</th>\n",
       "      <th>Widowed_2011-2014</th>\n",
       "      <th>Proportion_female_2011-2014</th>\n",
       "    </tr>\n",
       "  </thead>\n",
       "  <tbody>\n",
       "    <tr>\n",
       "      <th>ZH</th>\n",
       "      <td>4197.333333</td>\n",
       "      <td>26.666667</td>\n",
       "      <td>19.602532</td>\n",
       "      <td>63.573026</td>\n",
       "      <td>16.824443</td>\n",
       "      <td>-7.581552</td>\n",
       "      <td>41.654279</td>\n",
       "      <td>1728.85</td>\n",
       "      <td>2769.827</td>\n",
       "      <td>6.313217</td>\n",
       "      <td>...</td>\n",
       "      <td>41.296704</td>\n",
       "      <td>42.953998</td>\n",
       "      <td>36.368028</td>\n",
       "      <td>1409055.000</td>\n",
       "      <td>0.120941</td>\n",
       "      <td>0.450741</td>\n",
       "      <td>0.422531</td>\n",
       "      <td>0.085412</td>\n",
       "      <td>0.044979</td>\n",
       "      <td>0.504414</td>\n",
       "    </tr>\n",
       "    <tr>\n",
       "      <th>BE</th>\n",
       "      <td>3543.666667</td>\n",
       "      <td>25.000000</td>\n",
       "      <td>19.122306</td>\n",
       "      <td>60.943534</td>\n",
       "      <td>19.934160</td>\n",
       "      <td>-3.167849</td>\n",
       "      <td>42.578783</td>\n",
       "      <td>5959.40</td>\n",
       "      <td>2452.700</td>\n",
       "      <td>5.360471</td>\n",
       "      <td>...</td>\n",
       "      <td>43.087939</td>\n",
       "      <td>44.218315</td>\n",
       "      <td>36.320783</td>\n",
       "      <td>993388.500</td>\n",
       "      <td>0.045445</td>\n",
       "      <td>0.426365</td>\n",
       "      <td>0.438816</td>\n",
       "      <td>0.079606</td>\n",
       "      <td>0.057560</td>\n",
       "      <td>0.511327</td>\n",
       "    </tr>\n",
       "    <tr>\n",
       "      <th>LU</th>\n",
       "      <td>3492.333333</td>\n",
       "      <td>29.333333</td>\n",
       "      <td>20.829236</td>\n",
       "      <td>62.367589</td>\n",
       "      <td>16.803175</td>\n",
       "      <td>-3.962897</td>\n",
       "      <td>53.449454</td>\n",
       "      <td>1493.28</td>\n",
       "      <td>1089.328</td>\n",
       "      <td>6.212331</td>\n",
       "      <td>...</td>\n",
       "      <td>40.905594</td>\n",
       "      <td>42.078386</td>\n",
       "      <td>35.233512</td>\n",
       "      <td>386126.000</td>\n",
       "      <td>0.109032</td>\n",
       "      <td>0.457116</td>\n",
       "      <td>0.435550</td>\n",
       "      <td>0.063560</td>\n",
       "      <td>0.048224</td>\n",
       "      <td>0.504410</td>\n",
       "    </tr>\n",
       "    <tr>\n",
       "      <th>UR</th>\n",
       "      <td>3117.333333</td>\n",
       "      <td>22.333333</td>\n",
       "      <td>20.639858</td>\n",
       "      <td>60.186625</td>\n",
       "      <td>19.173517</td>\n",
       "      <td>-5.518644</td>\n",
       "      <td>24.176345</td>\n",
       "      <td>1076.30</td>\n",
       "      <td>134.459</td>\n",
       "      <td>5.937669</td>\n",
       "      <td>...</td>\n",
       "      <td>42.332524</td>\n",
       "      <td>42.957322</td>\n",
       "      <td>37.145483</td>\n",
       "      <td>35663.750</td>\n",
       "      <td>0.033698</td>\n",
       "      <td>0.428650</td>\n",
       "      <td>0.470036</td>\n",
       "      <td>0.045277</td>\n",
       "      <td>0.057285</td>\n",
       "      <td>0.490052</td>\n",
       "    </tr>\n",
       "    <tr>\n",
       "      <th>SZ</th>\n",
       "      <td>3039.666667</td>\n",
       "      <td>27.666667</td>\n",
       "      <td>20.256090</td>\n",
       "      <td>63.302981</td>\n",
       "      <td>16.440930</td>\n",
       "      <td>-3.500956</td>\n",
       "      <td>40.543815</td>\n",
       "      <td>908.03</td>\n",
       "      <td>317.623</td>\n",
       "      <td>5.020471</td>\n",
       "      <td>...</td>\n",
       "      <td>41.344154</td>\n",
       "      <td>42.505352</td>\n",
       "      <td>36.529887</td>\n",
       "      <td>149718.625</td>\n",
       "      <td>0.125042</td>\n",
       "      <td>0.436925</td>\n",
       "      <td>0.449719</td>\n",
       "      <td>0.072028</td>\n",
       "      <td>0.045372</td>\n",
       "      <td>0.488667</td>\n",
       "    </tr>\n",
       "  </tbody>\n",
       "</table>\n",
       "<p>5 rows × 81 columns</p>\n",
       "</div>"
      ],
      "text/plain": [
       "    edu_expense_per_hab_2010-2012  edu_expense_percent_total_2010-2012  \\\n",
       "ZH                    4197.333333                            26.666667   \n",
       "BE                    3543.666667                            25.000000   \n",
       "LU                    3492.333333                            29.333333   \n",
       "UR                    3117.333333                            22.333333   \n",
       "SZ                    3039.666667                            27.666667   \n",
       "\n",
       "    Age distribution in % 0–19_2014  Age distribution in % 20–64_2014  \\\n",
       "ZH                        19.602532                         63.573026   \n",
       "BE                        19.122306                         60.943534   \n",
       "LU                        20.829236                         62.367589   \n",
       "UR                        20.639858                         60.186625   \n",
       "SZ                        20.256090                         63.302981   \n",
       "\n",
       "    Age distribution in % 65 years or over_2014  \\\n",
       "ZH                                    16.824443   \n",
       "BE                                    19.934160   \n",
       "LU                                    16.803175   \n",
       "UR                                    19.173517   \n",
       "SZ                                    16.440930   \n",
       "\n",
       "    Agricultural area Change in %_1979/85-2004/09  \\\n",
       "ZH                                      -7.581552   \n",
       "BE                                      -3.167849   \n",
       "LU                                      -3.962897   \n",
       "UR                                      -5.518644   \n",
       "SZ                                      -3.500956   \n",
       "\n",
       "    Agricultural area in %_2004/09  Area in km2 4)_2004/09  \\\n",
       "ZH                       41.654279                 1728.85   \n",
       "BE                       42.578783                 5959.40   \n",
       "LU                       53.449454                 1493.28   \n",
       "UR                       24.176345                 1076.30   \n",
       "SZ                       40.543815                  908.03   \n",
       "\n",
       "    Arrivals in hotels and spas in 1000_2014  \\\n",
       "ZH                                  2769.827   \n",
       "BE                                  2452.700   \n",
       "LU                                  1089.328   \n",
       "UR                                   134.459   \n",
       "SZ                                   317.623   \n",
       "\n",
       "    Average length of stay in intensive care (days)_2013  \\\n",
       "ZH                                           6.313217      \n",
       "BE                                           5.360471      \n",
       "LU                                           6.212331      \n",
       "UR                                           5.937669      \n",
       "SZ                                           5.020471      \n",
       "\n",
       "               ...               pop_age_total_2011-2014  \\\n",
       "ZH             ...                             41.296704   \n",
       "BE             ...                             43.087939   \n",
       "LU             ...                             40.905594   \n",
       "UR             ...                             42.332524   \n",
       "SZ             ...                             41.344154   \n",
       "\n",
       "    pop_age_swiss_2011-2014  pop_age_foreigner_2011-2014  perm_res_2011-2014  \\\n",
       "ZH                42.953998                    36.368028         1409055.000   \n",
       "BE                44.218315                    36.320783          993388.500   \n",
       "LU                42.078386                    35.233512          386126.000   \n",
       "UR                42.957322                    37.145483           35663.750   \n",
       "SZ                42.505352                    36.529887          149718.625   \n",
       "\n",
       "    perm_res_change_2004-2014  Single_2011-2014  Married_2011-2014  \\\n",
       "ZH                   0.120941          0.450741           0.422531   \n",
       "BE                   0.045445          0.426365           0.438816   \n",
       "LU                   0.109032          0.457116           0.435550   \n",
       "UR                   0.033698          0.428650           0.470036   \n",
       "SZ                   0.125042          0.436925           0.449719   \n",
       "\n",
       "    Divorced_2011-2014  Widowed_2011-2014  Proportion_female_2011-2014  \n",
       "ZH            0.085412           0.044979                     0.504414  \n",
       "BE            0.079606           0.057560                     0.511327  \n",
       "LU            0.063560           0.048224                     0.504410  \n",
       "UR            0.045277           0.057285                     0.490052  \n",
       "SZ            0.072028           0.045372                     0.488667  \n",
       "\n",
       "[5 rows x 81 columns]"
      ]
     },
     "execution_count": 7,
     "metadata": {},
     "output_type": "execute_result"
    }
   ],
   "source": [
    "demographics.head()"
   ]
  },
  {
   "cell_type": "markdown",
   "metadata": {},
   "source": [
    "### select the features to drop"
   ]
  },
  {
   "cell_type": "code",
   "execution_count": 8,
   "metadata": {
    "collapsed": false
   },
   "outputs": [],
   "source": [
    "# for example decide to work only with data from 2014\n",
    "#demographics=demographics[demographics.columns[demographics.columns.str.endswith('2014')]]"
   ]
  },
  {
   "cell_type": "markdown",
   "metadata": {},
   "source": [
    "### Remove the row or columns with missing data"
   ]
  },
  {
   "cell_type": "markdown",
   "metadata": {},
   "source": [
    "Drop the demographics that contain nans for come cantons"
   ]
  },
  {
   "cell_type": "code",
   "execution_count": 9,
   "metadata": {
    "collapsed": true
   },
   "outputs": [],
   "source": [
    "# drop the columns that contain Nans : means we dont have the info for all cantons (it removed 44 features)\n",
    "demographics_clean=demographics.dropna(axis=1, how='any')"
   ]
  },
  {
   "cell_type": "code",
   "execution_count": 10,
   "metadata": {
    "collapsed": false
   },
   "outputs": [
    {
     "data": {
      "text/plain": [
       "3"
      ]
     },
     "execution_count": 10,
     "metadata": {},
     "output_type": "execute_result"
    }
   ],
   "source": [
    "len(demographics.columns.tolist())-len(demographics_clean.columns.tolist())"
   ]
  },
  {
   "cell_type": "code",
   "execution_count": 11,
   "metadata": {
    "collapsed": false
   },
   "outputs": [
    {
     "name": "stdout",
     "output_type": "stream",
     "text": [
      "['Main language in % English_2013', 'Main language in % Italian_2013', 'Main language in % Romansh_2013']\n"
     ]
    }
   ],
   "source": [
    "# print the columns that were removed\n",
    "print ([obj for obj in demographics.columns.tolist() if obj not in demographics_clean.columns.tolist()])"
   ]
  },
  {
   "cell_type": "markdown",
   "metadata": {},
   "source": [
    "## Step 2: Analysis of the votations as individual samples"
   ]
  },
  {
   "cell_type": "markdown",
   "metadata": {},
   "source": [
    "In this step the outcome of each individual votation for each canton was analysed.\n",
    "\n",
    "The outcomes analysed were the 4 Won classes: Right Won (1), Left Won (2), None won (0), Both won (3), or the outcome for each party individually (Right Won (-1 for no and +1 for yes) and Left Won).\n",
    "\n",
    "The feature matrix was made of the demographics (for each canton), and the type of votation (manually classified into 8 categories: economy, education, environment, immigration, health, security, social, work.\n",
    "\n",
    "Each sample corresponding to the result of one votation for one canton, the demographics features were repeated for all the votations (each canton always have the same features), which is not optimal.\n",
    "\n",
    "Nevertheless we tried to analyse this whole dataset, by atempting to predict the votation outcomes based on the demographics and votation type with a RandomForrest classifier.\n",
    "\n",
    "This was a 1st step in out analysis,to have broad idea of a potential predicting power of the demographics, but we were well aware of the limitations due to repeated features.\n",
    "\n",
    "One way to reduce the problem would have been to have the demographics parameter of the year of each votation. This was not possible for most features because these data were not available for nost years.\n"
   ]
  },
  {
   "cell_type": "markdown",
   "metadata": {},
   "source": [
    "### Create the feature matrix: duplicate rows and add canton and votation"
   ]
  },
  {
   "cell_type": "markdown",
   "metadata": {},
   "source": [
    "1st we needed to reshape the features matrix so that it had the same shape than the votation outcomes (2 levels index: cantons and votations).\n",
    "\n",
    "We also added the votation type and the cantons as features"
   ]
  },
  {
   "cell_type": "code",
   "execution_count": 12,
   "metadata": {
    "collapsed": false
   },
   "outputs": [],
   "source": [
    "# create a dictionnary that associates the cantons to a number\n",
    "cant2nb={}\n",
    "for i,cant in enumerate(pd.unique(vot_outcome.index.get_level_values(0).tolist())):\n",
    "    cant2nb[cant]=i"
   ]
  },
  {
   "cell_type": "code",
   "execution_count": 13,
   "metadata": {
    "collapsed": true
   },
   "outputs": [],
   "source": [
    "# create the dictionnary to associate the votations to a certain type\n",
    "import pickle\n",
    "votations_sorted = pickle.load(open( \"votations_sorted.p\", \"rb\" ) )\n"
   ]
  },
  {
   "cell_type": "code",
   "execution_count": 14,
   "metadata": {
    "collapsed": false
   },
   "outputs": [
    {
     "data": {
      "text/plain": [
       "{'economie': [585, 587, 589, 594, 598],\n",
       " 'education': [559, 563, 593],\n",
       " 'environnement': [555, 556, 566, 569, 577, 578, 588, 591, 595, 599, 602],\n",
       " 'immigration': [561, 571, 580, 597, 604],\n",
       " 'sante': [562, 565, 573, 579, 581, 586, 592, 603],\n",
       " 'securite': [554, 572, 582, 584],\n",
       " 'social': [558, 560, 564, 567, 570, 576, 590, 596, 600],\n",
       " 'travail': [557, 568, 574, 575, 583, 601]}"
      ]
     },
     "execution_count": 14,
     "metadata": {},
     "output_type": "execute_result"
    }
   ],
   "source": [
    "votations_sorted"
   ]
  },
  {
   "cell_type": "code",
   "execution_count": 15,
   "metadata": {
    "collapsed": false
   },
   "outputs": [],
   "source": [
    "#associate each type of votation to a number\n",
    "typevot2nb={'economie': 0,\n",
    " 'education': 1,\n",
    " 'environnement': 2,\n",
    " 'immigration': 3,\n",
    " 'sante': 4,\n",
    " 'securite': 5,\n",
    " 'social': 6,\n",
    " 'travail': 7}"
   ]
  },
  {
   "cell_type": "code",
   "execution_count": 16,
   "metadata": {
    "collapsed": false
   },
   "outputs": [],
   "source": [
    "# find the type of each votation: create a dictionnary to associate\n",
    "vot_type={}\n",
    "for vot in pd.unique(vot_outcome.index.get_level_values(1).tolist()):\n",
    "    vot_type[vot]=[key for key,value in votations_sorted.items() if vot in value][0]"
   ]
  },
  {
   "cell_type": "code",
   "execution_count": 17,
   "metadata": {
    "collapsed": false
   },
   "outputs": [
    {
     "data": {
      "text/plain": [
       "5"
      ]
     },
     "execution_count": 17,
     "metadata": {},
     "output_type": "execute_result"
    }
   ],
   "source": [
    "typevot2nb[vot_type[554]]"
   ]
  },
  {
   "cell_type": "code",
   "execution_count": 18,
   "metadata": {
    "collapsed": true
   },
   "outputs": [],
   "source": [
    "# create the columns names for the feature matrix\n",
    "col=demographics_clean.columns.tolist()\n",
    "col.append('Canton')\n",
    "#col.append('Votation')\n",
    "col.append('Votation_type')"
   ]
  },
  {
   "cell_type": "code",
   "execution_count": 19,
   "metadata": {
    "collapsed": false
   },
   "outputs": [],
   "source": [
    "# create a dataframe with one row per votation for each canton\n",
    "features=pd.DataFrame(index=vot_outcome.index,columns=col)\n",
    "\n",
    "for cant in pd.unique(vot_outcome.index.get_level_values(0).tolist()):\n",
    "    for vot in pd.unique(vot_outcome.index.get_level_values(1).tolist()):     \n",
    "        liste=np.array(demographics_clean.loc[cant]).astype(float).tolist()\n",
    "        \n",
    "        #add the canton as a feature\n",
    "        liste.append(cant2nb[cant])\n",
    "        \n",
    "        #add the votation as a feature\n",
    "        #liste.append(vot)\n",
    "        \n",
    "        #add the type of votation as a feature\n",
    "        liste.append(typevot2nb[vot_type[vot]])\n",
    "        \n",
    "        features.loc[(cant,vot)]=liste"
   ]
  },
  {
   "cell_type": "markdown",
   "metadata": {},
   "source": [
    "### Predicting the 4 outcomes of the vote (right left both none)"
   ]
  },
  {
   "cell_type": "markdown",
   "metadata": {},
   "source": [
    "##### Random forest classifier"
   ]
  },
  {
   "cell_type": "code",
   "execution_count": 100,
   "metadata": {
    "collapsed": false
   },
   "outputs": [],
   "source": [
    "# define the features and the labels\n",
    "feat=np.array(features)\n",
    "labels=np.array(vot_outcome['Won']) # here analyse the 4 classes outcome but could also analyse just the outcome for the\n",
    "# right (Right_Won) or for the left (Left_Won)"
   ]
  },
  {
   "cell_type": "code",
   "execution_count": 102,
   "metadata": {
    "collapsed": false
   },
   "outputs": [
    {
     "name": "stderr",
     "output_type": "stream",
     "text": [
      "/Users/lugrinclaire/anaconda/lib/python3.5/site-packages/sklearn/utils/validation.py:420: DataConversionWarning: Data with input dtype object was converted to float64 by the scale function.\n",
      "  warnings.warn(msg, DataConversionWarning)\n"
     ]
    }
   ],
   "source": [
    "# standardize the data\n",
    "feat = scale(feat, axis=0, with_mean=True, with_std=True, copy=True)"
   ]
  },
  {
   "cell_type": "code",
   "execution_count": 103,
   "metadata": {
    "collapsed": false
   },
   "outputs": [],
   "source": [
    "def build_RF(n_folds, X, y, classifier):\n",
    "    \"\"\"\n",
    "    Build random forest classifier and estimate its accuracy\n",
    "    n_folds: number of folds in the crossvalidation\n",
    "    X: feature matrix\n",
    "    y: labels\n",
    "    classifier:\n",
    "    \"\"\"\n",
    "    #cross validation\n",
    "    accuracy=[]\n",
    "    folds=KFold(len(y),n_folds=n_folds,shuffle=True)\n",
    "    for train_index, test_index in folds:\n",
    "        X_train, X_test = X[train_index], X[test_index] # define training and testing sets\n",
    "        y_train, y_test = y[train_index], y[test_index] # define labels for training and testing sets\n",
    "\n",
    "        classifier.fit(X_train,y_train) \n",
    "        y_pred=classifier.predict(X_test)\n",
    "        accuracy.append(float(sum(y_pred==y_test))/float(len(y_pred)))\n",
    "    \n",
    "    #classifier training\n",
    "    classifier.fit(X,y) # train with all the samples\n",
    "    return accuracy, classifier\n",
    "\n",
    "def study_feature_importance(classifier,features,feat_indexes):\n",
    "    \"\"\"\n",
    "    Study and plot the feature importances\n",
    "    classifier: random forest classifier\n",
    "    features: matrix of features used to train the classifier\n",
    "    \"\"\"\n",
    "    feat_imp = classifier.feature_importances_\n",
    "    n_weights = 10#np.shape(features)[1] # determine number of weights\n",
    "\n",
    "    # Plot feature importances\n",
    "    plt.figure()\n",
    "    indices = np.argsort(feat_imp)[::-1]\n",
    "    labels = np.array(feat_indexes)[indices][:n_weights]\n",
    "    print(np.array(feat_indexes)[indices][:n_weights])\n",
    "    plt.bar(range(n_weights),feat_imp[indices][:n_weights])\n",
    "    plt.ylabel('Relative importance')\n",
    "    plt.title('Feature Importances')\n",
    "    plt.xticks(range(n_weights), labels, rotation = 'vertical')"
   ]
  },
  {
   "cell_type": "code",
   "execution_count": 105,
   "metadata": {
    "collapsed": false
   },
   "outputs": [
    {
     "name": "stdout",
     "output_type": "stream",
     "text": [
      "0.447831526272 0.0322454659648\n",
      "['Votation_type' 'Proportion_female_2011-2014' 'Crude divorce rate_2014'\n",
      " 'Age distribution in % 0–19_2014' 'Social assistance rate_2014'\n",
      " 'Main language in % German_2013'\n",
      " 'Criminal offences as ‰ of total population under the Narcotics Act (NarcA)_2014'\n",
      " 'Average per capita living space in m²_2013' 'Married_2011-2014'\n",
      " 'Gross domestic product per capita in Swiss francs_2013']\n"
     ]
    },
    {
     "data": {
      "image/png": "[encoded data removed]",
      "text/plain": [
       "<matplotlib.figure.Figure at 0x11a4fe4e0>"
      ]
     },
     "metadata": {},
     "output_type": "display_data"
    }
   ],
   "source": [
    "# Build the classifier with default parameters:\n",
    "classifier = RandomForestClassifier(max_depth = None , n_estimators = 20) \n",
    "\n",
    "#find the index for the features\n",
    "feat_indexes = features.columns.tolist()\n",
    "\n",
    "#classify and compute accuracy\n",
    "accuracy, classifier = build_RF(10,feat,labels,classifier)\n",
    "\n",
    "# Display accuracy\n",
    "mean_acc=np.mean(accuracy)\n",
    "std_acc=np.std(accuracy)\n",
    "print(mean_acc,std_acc)\n",
    "\n",
    "# Study feature importance\n",
    "feat_imp = classifier.feature_importances_\n",
    "n_weights = 10#np.shape(features)[1] # determine number of weights\n",
    "\n",
    "# Plot feature importances\n",
    "fig=plt.figure()\n",
    "indices = np.argsort(feat_imp)[::-1]\n",
    "labels = np.array(feat_indexes)[indices][:n_weights]\n",
    "print(np.array(feat_indexes)[indices][:n_weights])\n",
    "plt.bar(range(n_weights),feat_imp[indices][:n_weights])\n",
    "plt.ylabel('Relative importance')\n",
    "plt.title('Feature Importances of RandomForrest classifier \\n predicting the outcome of votations')\n",
    "plt.xticks(range(n_weights), labels, rotation = 'vertical')\n",
    "fig.savefig('RF_allvotations.eps', format='eps')"
   ]
  },
  {
   "cell_type": "markdown",
   "metadata": {},
   "source": [
    "From this we could see that only the type of votation was important to predict the outcome of the votations. The type of features (the same for each votations) used here did not allow to predict well the outcome of the votations (44% accuracy), which was expected as the data was not grouped and thus highly repeated.\n",
    "\n",
    "Considering that the votation type seems to have a great influence on the outcome, the next step was to group the votations by type and continue the analysis on the grouped data."
   ]
  },
  {
   "cell_type": "markdown",
   "metadata": {},
   "source": [
    "# Step 2: analysis of the demographic's influence on the votations grouped in thematic categories"
   ]
  },
  {
   "cell_type": "markdown",
   "metadata": {},
   "source": [
    "### Group the data by category of votations"
   ]
  },
  {
   "cell_type": "code",
   "execution_count": 107,
   "metadata": {
    "collapsed": false
   },
   "outputs": [],
   "source": [
    "#create the index of rows to keep for each votation type\n",
    "idx={}\n",
    "for i in np.unique(features.Votation_type):\n",
    "    idx[i]=features.Votation_type==i"
   ]
  },
  {
   "cell_type": "markdown",
   "metadata": {},
   "source": [
    "### Compute the cross correlation between the percentage obtained by the winning outcome and the demographics, for different categories of votations"
   ]
  },
  {
   "cell_type": "markdown",
   "metadata": {},
   "source": [
    "This is a side analysis to have an idea of a potential influence on the percentage obtained by the winning outcome.\n",
    "\n",
    "We did a cross correlation analysis separately for the different votations categories.\n",
    "\n",
    "The outcome analysed here were again for each individual votation of the categories, an hence we still have the issue of repeated independent variable (we still have several samples for each cantons, and all samples have the same features)\n",
    "\n",
    "We still need further averaging of the votations to bypass this issue."
   ]
  },
  {
   "cell_type": "code",
   "execution_count": 29,
   "metadata": {
    "collapsed": false
   },
   "outputs": [],
   "source": [
    "# chose votation categorie\n",
    "i=0\n",
    "\n",
    "#build independent and dependent variable matrices\n",
    "x=np.array(features[idx[i]])\n",
    "y=np.array(vot_outcome['percent_won'][idx[i]])"
   ]
  },
  {
   "cell_type": "code",
   "execution_count": 32,
   "metadata": {
    "collapsed": false
   },
   "outputs": [],
   "source": [
    "# find the features significantly correlated\n",
    "F, p_val=feature_selection.f_regression(x, y, center=True)"
   ]
  },
  {
   "cell_type": "code",
   "execution_count": 33,
   "metadata": {
    "collapsed": false
   },
   "outputs": [],
   "source": [
    "feat_name=features.columns.tolist()"
   ]
  },
  {
   "cell_type": "code",
   "execution_count": 34,
   "metadata": {
    "collapsed": false
   },
   "outputs": [],
   "source": [
    "significant_features=[i for i,j in zip(feat_name,p_val) if j <0.05]"
   ]
  },
  {
   "cell_type": "code",
   "execution_count": 35,
   "metadata": {
    "collapsed": false
   },
   "outputs": [
    {
     "data": {
      "text/plain": [
       "['Crude mortality rate_2014',\n",
       " 'Settlement and urban area Change in %_1979/85-2004/09',\n",
       " 'Unproductive area in %_2004/09',\n",
       " 'perm_res_change_2004-2014',\n",
       " 'Widowed_2011-2014']"
      ]
     },
     "execution_count": 35,
     "metadata": {},
     "output_type": "execute_result"
    }
   ],
   "source": [
    "significant_features"
   ]
  },
  {
   "cell_type": "markdown",
   "metadata": {},
   "source": [
    "## Compute an average outcome for the different types of votations"
   ]
  },
  {
   "cell_type": "markdown",
   "metadata": {},
   "source": [
    "To overcome the issue of repeated features across votations, we computed an average outcome of the votations of each type, for each Canton. The score was based on the number of times the right and the left won in each Canton. \n",
    "\n",
    "This outcome reflected the proportion of time the right group won the votation (compared to the number of time the left group won), and was computed as follows: \n",
    "\n",
    "$ Score = \\frac{Right\\ victories\\ -\\ Left\\ victories }{number\\ of\\ votations} $\n",
    "\n",
    "where Right victories correspond to the number of votations (of the type considered) that the right group won (ie. their recommendations was followed), Left victories correspond to the number of votations that the left won, and number of votations is the total number of votations of that type.\n",
    "\n",
    "The score is positive when the right won more often, negative when the left won more often, 0 when they both won the same number of votations. An high absolute value for the score reflect to a high bias of the canton towards one of the groups (for the type of votation studied)."
   ]
  },
  {
   "cell_type": "markdown",
   "metadata": {},
   "source": [
    "### Compute the scores of all votations together"
   ]
  },
  {
   "cell_type": "code",
   "execution_count": 237,
   "metadata": {
    "collapsed": false
   },
   "outputs": [],
   "source": [
    "right_won={}\n",
    "left_won={}\n",
    "score_right={}\n",
    "score_left={}\n",
    "\n",
    "winning_group=pd.DataFrame(index=pd.unique(vot_outcome.index.get_level_values(0).tolist()))\n",
    "winning_group['All votations']=0#'Equality'#0\n",
    "\n",
    "scores_party=pd.DataFrame(index=pd.unique(vot_outcome.index.get_level_values(0).tolist()))\n",
    "scores_party['All votations']=''\n",
    "\n",
    "for cant in pd.unique(pd.unique(vot_outcome.index.get_level_values(0).tolist())):\n",
    "    right_won[cant]=sum(vot_outcome['Right_won'].loc[cant])\n",
    "    left_won[cant]=sum(vot_outcome['Left_won'].loc[cant])\n",
    "    \n",
    "    score_right[cant]=sum(vot_outcome['Right_won'].loc[cant][vot_outcome['Right_won'].loc[cant]==1])\n",
    "    score_left[cant]=sum(vot_outcome['Left_won'].loc[cant][vot_outcome['Left_won'].loc[cant]==1])\n",
    "    \n",
    "    # the score is the score right-score left /total number of votations\n",
    "    scores_party['All votations'][cant]=(score_right[cant]-score_left[cant])/len(vot_outcome['Left_won'].loc[cant])\n",
    "    \n",
    "    if right_won[cant]>left_won[cant]:\n",
    "        winning_group['All votations'][cant]=1#'Right'#1\n",
    "    elif right_won[cant]<left_won[cant]:\n",
    "        winning_group['All votations'][cant]=2#'Left'#2\n",
    "\n",
    "    "
   ]
  },
  {
   "cell_type": "code",
   "execution_count": 238,
   "metadata": {
    "collapsed": true
   },
   "outputs": [],
   "source": [
    "typevot2str={0:'Economie',\n",
    " 1:'Education',\n",
    " 2:'Environnement',\n",
    " 3:'Immigration',\n",
    " 4:'Sante',\n",
    " 5:'Securite',\n",
    " 6:'Social',\n",
    " 7:'Travail'}"
   ]
  },
  {
   "cell_type": "markdown",
   "metadata": {},
   "source": [
    "### Compute the scores for each type of votations separated"
   ]
  },
  {
   "cell_type": "code",
   "execution_count": 240,
   "metadata": {
    "collapsed": false
   },
   "outputs": [],
   "source": [
    "# now compute for all type of votations \n",
    "for i in range(0,8):\n",
    "    \n",
    "    right_woni={}\n",
    "    left_woni={}\n",
    "    \n",
    "    score_right={}\n",
    "    score_left={}\n",
    "    \n",
    "    winning_group[typevot2str[i]]=0#'Equality'\n",
    "    scores_party[typevot2str[i]]=''\n",
    "    \n",
    "    #keep the data of this type of votation only\n",
    "    dat=vot_outcome[idx[i]]\n",
    "    \n",
    "    for cant in pd.unique(pd.unique(vot_outcome.index.get_level_values(0).tolist())):\n",
    "        right_woni[cant]=sum(dat['Right_won'].loc[cant])\n",
    "        left_woni[cant]=sum(dat['Left_won'].loc[cant])\n",
    "        \n",
    "        score_right[cant]=sum(dat['Right_won'].loc[cant][dat['Right_won'].loc[cant]==1])\n",
    "        score_left[cant]=sum(dat['Left_won'].loc[cant][dat['Left_won'].loc[cant]==1])\n",
    "    \n",
    "        # the score is the score right-score left /total number of votations\n",
    "        scores_party[typevot2str[i]][cant]=(score_right[cant]-score_left[cant])/len(dat['Left_won'].loc[cant])\n",
    "    \n",
    "        \n",
    "        if right_woni[cant]>left_woni[cant]:\n",
    "            winning_group[typevot2str[i]][cant]=1#'Right'\n",
    "        elif right_woni[cant]<left_woni[cant]:\n",
    "            winning_group[typevot2str[i]][cant]=2#'Left'"
   ]
  },
  {
   "cell_type": "markdown",
   "metadata": {},
   "source": [
    "Scores for each cantons in each type of votations"
   ]
  },
  {
   "cell_type": "code",
   "execution_count": 241,
   "metadata": {
    "collapsed": false
   },
   "outputs": [
    {
     "data": {
      "text/html": [
       "<div>\n",
       "<table border=\"1\" class=\"dataframe\">\n",
       "  <thead>\n",
       "    <tr style=\"text-align: right;\">\n",
       "      <th></th>\n",
       "      <th>All votations</th>\n",
       "      <th>Economie</th>\n",
       "      <th>Education</th>\n",
       "      <th>Environnement</th>\n",
       "      <th>Immigration</th>\n",
       "      <th>Sante</th>\n",
       "      <th>Securite</th>\n",
       "      <th>Social</th>\n",
       "      <th>Travail</th>\n",
       "    </tr>\n",
       "  </thead>\n",
       "  <tbody>\n",
       "    <tr>\n",
       "      <th>ZH</th>\n",
       "      <td>0.0714286</td>\n",
       "      <td>0.25</td>\n",
       "      <td>0.333333</td>\n",
       "      <td>-0.222222</td>\n",
       "      <td>0.333333</td>\n",
       "      <td>0.285714</td>\n",
       "      <td>0</td>\n",
       "      <td>-0.428571</td>\n",
       "      <td>0.6</td>\n",
       "    </tr>\n",
       "    <tr>\n",
       "      <th>BE</th>\n",
       "      <td>0.166667</td>\n",
       "      <td>0.25</td>\n",
       "      <td>0.333333</td>\n",
       "      <td>-0.222222</td>\n",
       "      <td>0.333333</td>\n",
       "      <td>0.285714</td>\n",
       "      <td>0.5</td>\n",
       "      <td>-0.142857</td>\n",
       "      <td>0.6</td>\n",
       "    </tr>\n",
       "    <tr>\n",
       "      <th>LU</th>\n",
       "      <td>0.261905</td>\n",
       "      <td>0.25</td>\n",
       "      <td>0.333333</td>\n",
       "      <td>0</td>\n",
       "      <td>0.333333</td>\n",
       "      <td>0.285714</td>\n",
       "      <td>1</td>\n",
       "      <td>-0.142857</td>\n",
       "      <td>0.6</td>\n",
       "    </tr>\n",
       "    <tr>\n",
       "      <th>UR</th>\n",
       "      <td>0.214286</td>\n",
       "      <td>0.25</td>\n",
       "      <td>0.333333</td>\n",
       "      <td>0</td>\n",
       "      <td>0.333333</td>\n",
       "      <td>0.285714</td>\n",
       "      <td>1</td>\n",
       "      <td>-0.142857</td>\n",
       "      <td>0.2</td>\n",
       "    </tr>\n",
       "    <tr>\n",
       "      <th>SZ</th>\n",
       "      <td>0.261905</td>\n",
       "      <td>0.25</td>\n",
       "      <td>0.333333</td>\n",
       "      <td>0</td>\n",
       "      <td>0.333333</td>\n",
       "      <td>0.285714</td>\n",
       "      <td>1</td>\n",
       "      <td>-0.142857</td>\n",
       "      <td>0.6</td>\n",
       "    </tr>\n",
       "  </tbody>\n",
       "</table>\n",
       "</div>"
      ],
      "text/plain": [
       "   All votations Economie Education Environnement Immigration     Sante  \\\n",
       "ZH     0.0714286     0.25  0.333333     -0.222222    0.333333  0.285714   \n",
       "BE      0.166667     0.25  0.333333     -0.222222    0.333333  0.285714   \n",
       "LU      0.261905     0.25  0.333333             0    0.333333  0.285714   \n",
       "UR      0.214286     0.25  0.333333             0    0.333333  0.285714   \n",
       "SZ      0.261905     0.25  0.333333             0    0.333333  0.285714   \n",
       "\n",
       "   Securite    Social Travail  \n",
       "ZH        0 -0.428571     0.6  \n",
       "BE      0.5 -0.142857     0.6  \n",
       "LU        1 -0.142857     0.6  \n",
       "UR        1 -0.142857     0.2  \n",
       "SZ        1 -0.142857     0.6  "
      ]
     },
     "execution_count": 241,
     "metadata": {},
     "output_type": "execute_result"
    }
   ],
   "source": [
    "scores_party.head()"
   ]
  },
  {
   "cell_type": "markdown",
   "metadata": {},
   "source": [
    "Binary score for each canton and type of votations: \n",
    "1: Right won, 2: Left won, 0: Equaility"
   ]
  },
  {
   "cell_type": "code",
   "execution_count": 242,
   "metadata": {
    "collapsed": false
   },
   "outputs": [
    {
     "data": {
      "text/html": [
       "<div>\n",
       "<table border=\"1\" class=\"dataframe\">\n",
       "  <thead>\n",
       "    <tr style=\"text-align: right;\">\n",
       "      <th></th>\n",
       "      <th>All votations</th>\n",
       "      <th>Economie</th>\n",
       "      <th>Education</th>\n",
       "      <th>Environnement</th>\n",
       "      <th>Immigration</th>\n",
       "      <th>Sante</th>\n",
       "      <th>Securite</th>\n",
       "      <th>Social</th>\n",
       "      <th>Travail</th>\n",
       "    </tr>\n",
       "  </thead>\n",
       "  <tbody>\n",
       "    <tr>\n",
       "      <th>ZH</th>\n",
       "      <td>1</td>\n",
       "      <td>1</td>\n",
       "      <td>1</td>\n",
       "      <td>2</td>\n",
       "      <td>1</td>\n",
       "      <td>1</td>\n",
       "      <td>0</td>\n",
       "      <td>2</td>\n",
       "      <td>1</td>\n",
       "    </tr>\n",
       "    <tr>\n",
       "      <th>BE</th>\n",
       "      <td>1</td>\n",
       "      <td>1</td>\n",
       "      <td>1</td>\n",
       "      <td>2</td>\n",
       "      <td>1</td>\n",
       "      <td>1</td>\n",
       "      <td>1</td>\n",
       "      <td>2</td>\n",
       "      <td>1</td>\n",
       "    </tr>\n",
       "    <tr>\n",
       "      <th>LU</th>\n",
       "      <td>1</td>\n",
       "      <td>1</td>\n",
       "      <td>1</td>\n",
       "      <td>0</td>\n",
       "      <td>1</td>\n",
       "      <td>1</td>\n",
       "      <td>1</td>\n",
       "      <td>2</td>\n",
       "      <td>1</td>\n",
       "    </tr>\n",
       "    <tr>\n",
       "      <th>UR</th>\n",
       "      <td>1</td>\n",
       "      <td>1</td>\n",
       "      <td>1</td>\n",
       "      <td>0</td>\n",
       "      <td>1</td>\n",
       "      <td>1</td>\n",
       "      <td>1</td>\n",
       "      <td>2</td>\n",
       "      <td>1</td>\n",
       "    </tr>\n",
       "    <tr>\n",
       "      <th>SZ</th>\n",
       "      <td>1</td>\n",
       "      <td>1</td>\n",
       "      <td>1</td>\n",
       "      <td>0</td>\n",
       "      <td>1</td>\n",
       "      <td>1</td>\n",
       "      <td>1</td>\n",
       "      <td>2</td>\n",
       "      <td>1</td>\n",
       "    </tr>\n",
       "  </tbody>\n",
       "</table>\n",
       "</div>"
      ],
      "text/plain": [
       "    All votations  Economie  Education  Environnement  Immigration  Sante  \\\n",
       "ZH              1         1          1              2            1      1   \n",
       "BE              1         1          1              2            1      1   \n",
       "LU              1         1          1              0            1      1   \n",
       "UR              1         1          1              0            1      1   \n",
       "SZ              1         1          1              0            1      1   \n",
       "\n",
       "    Securite  Social  Travail  \n",
       "ZH         0       2        1  \n",
       "BE         1       2        1  \n",
       "LU         1       2        1  \n",
       "UR         1       2        1  \n",
       "SZ         1       2        1  "
      ]
     },
     "execution_count": 242,
     "metadata": {},
     "output_type": "execute_result"
    }
   ],
   "source": [
    "winning_group.head()"
   ]
  },
  {
   "cell_type": "code",
   "execution_count": 46,
   "metadata": {
    "collapsed": false
   },
   "outputs": [],
   "source": [
    "#winning_group.to_csv('Tables/Votation/Winning_group_vot_type_str')\n",
    "scores_party.to_csv('Tables/Votation/scores_party_vot_type')"
   ]
  },
  {
   "cell_type": "code",
   "execution_count": 47,
   "metadata": {
    "collapsed": true
   },
   "outputs": [],
   "source": [
    "writer = pd.ExcelWriter('Tables/Votation/scores_party_vot_type.xlsx')\n",
    "scores_party.to_excel(writer,sheet_name = 'Sheet1') # table is stored in Sheet 1\n",
    "writer.save()"
   ]
  },
  {
   "cell_type": "code",
   "execution_count": 48,
   "metadata": {
    "collapsed": true
   },
   "outputs": [],
   "source": [
    "#writer = pd.ExcelWriter('Tables/Votation/Winning_group_vot_type_str.xlsx')\n",
    "#winning_group.to_excel(writer,sheet_name = 'Sheet1') # table is stored in Sheet 1\n",
    "#writer.save()"
   ]
  },
  {
   "cell_type": "markdown",
   "metadata": {
    "collapsed": true
   },
   "source": [
    "#### Summary table of the outcomes:\n",
    "Red corresponds to left won more often, blue corresponds to right won more often, grey is equality"
   ]
  },
  {
   "cell_type": "code",
   "execution_count": 1,
   "metadata": {
    "collapsed": false
   },
   "outputs": [
    {
     "data": {
      "image/jpeg": "[encoded data removed]",
      "text/plain": [
       "<IPython.core.display.Image object>"
      ]
     },
     "execution_count": 1,
     "metadata": {},
     "output_type": "execute_result"
    }
   ],
   "source": [
    "from IPython.display import Image\n",
    "Image(\"../Figures/Slide07.jpg\")"
   ]
  },
  {
   "cell_type": "markdown",
   "metadata": {},
   "source": [
    "From this we can already see some clear trends. For the theme of Immigration or work for example, their is a clear trend towards the right group's recommendations, whereas the recommendations of the left were mostly followed for the environmental and social votations.\n",
    "\n",
    "We can also see that the french cantons tend to follow more often the recommendations of the left, than the other cantons.\n",
    "\n",
    "These scores were used for further analysis. Their main advantage is that they summarised the outcomes of the votations of each type, and that thanks to these it is possible that have only one sample of each type per canton and thus avoid repeating the features."
   ]
  },
  {
   "cell_type": "markdown",
   "metadata": {},
   "source": [
    "## Clustering the type of votations based on the scores of each cantons"
   ]
  },
  {
   "cell_type": "markdown",
   "metadata": {},
   "source": [
    "In this part we tried to cluster the type of votations based on the score computed before (as there seems to be some trend like the right is more followed for Immigrations or Work votations).\n",
    "\n",
    "\n",
    "We used PCA to reduce the dimensionality of the features (from 26 cantons to 4 principal components), and then applied a K-means clustering. We tried different numbers of clusters."
   ]
  },
  {
   "cell_type": "code",
   "execution_count": 52,
   "metadata": {
    "collapsed": false
   },
   "outputs": [
    {
     "name": "stdout",
     "output_type": "stream",
     "text": [
      "[ 0.77105208  0.12163461  0.05317844  0.02769304]\n"
     ]
    }
   ],
   "source": [
    "from sklearn.decomposition import PCA\n",
    "X=np.transpose(np.array(scores_party.drop('All votations', axis=1)).astype(float))\n",
    "pca = PCA(n_components=4)\n",
    "X_new=pca.fit_transform(X)\n",
    "print(pca.explained_variance_ratio_)"
   ]
  },
  {
   "cell_type": "code",
   "execution_count": 53,
   "metadata": {
    "collapsed": false
   },
   "outputs": [
    {
     "data": {
      "text/plain": [
       "array([0, 0, 1, 0, 0, 2, 1, 0], dtype=int32)"
      ]
     },
     "execution_count": 53,
     "metadata": {},
     "output_type": "execute_result"
    }
   ],
   "source": [
    "kmeans = KMeans(n_clusters=3, random_state=0).fit(X_new)\n",
    "kmeans.labels_"
   ]
  },
  {
   "cell_type": "code",
   "execution_count": 54,
   "metadata": {
    "collapsed": true
   },
   "outputs": [],
   "source": [
    "colors=[]\n",
    "for i in kmeans.labels_:\n",
    "    if i ==0:\n",
    "        colors.append('red')\n",
    "    elif i==1:\n",
    "        colors.append('blue')\n",
    "    elif i==2:\n",
    "        colors.append('green')\n",
    "    else:\n",
    "        colors.append('yellow')"
   ]
  },
  {
   "cell_type": "code",
   "execution_count": 55,
   "metadata": {
    "collapsed": false
   },
   "outputs": [
    {
     "data": {
      "image/png": "[encoded data removed]",
      "text/plain": [
       "<matplotlib.figure.Figure at 0x118c8f470>"
      ]
     },
     "metadata": {},
     "output_type": "display_data"
    }
   ],
   "source": [
    "x=X_new[:,0]\n",
    "y=X_new[:,1]\n",
    "n=scores_party.drop('All votations', axis=1).columns.tolist()\n",
    "\n",
    "fig, ax = plt.subplots()\n",
    "ax.scatter(x, y,color=colors)\n",
    "\n",
    "for i, txt in enumerate(n):\n",
    "    ax.annotate(txt, (x[i],y[i]))"
   ]
  },
  {
   "cell_type": "markdown",
   "metadata": {},
   "source": [
    "We see than indeed environnement and social votations cluster together (they were the ones that had a more negative (hence reflecting the left) scores. Security is a special case, as for most cantons all the recommendations fron the right group were followed, and none from the left group."
   ]
  },
  {
   "cell_type": "markdown",
   "metadata": {},
   "source": [
    "## Clustering the type of cantons based on the scores for each votation type"
   ]
  },
  {
   "cell_type": "markdown",
   "metadata": {},
   "source": [
    "Similarly we clustered the Cantons based on their votation scores in the 8 different categories.\n",
    "\n",
    "We used the same methods (PCA, keeping the 4 1st prinicpal components, K-means clustering) and tried different numbers of clusters."
   ]
  },
  {
   "cell_type": "code",
   "execution_count": 72,
   "metadata": {
    "collapsed": true
   },
   "outputs": [],
   "source": [
    "#drop the columns that had all votations\n",
    "X=np.array(scores_party.drop('All votations', axis=1)).astype(float)"
   ]
  },
  {
   "cell_type": "code",
   "execution_count": 110,
   "metadata": {
    "collapsed": false
   },
   "outputs": [
    {
     "name": "stdout",
     "output_type": "stream",
     "text": [
      "[ 0.679326    0.13626998  0.09190749  0.04231283]\n"
     ]
    }
   ],
   "source": [
    "pca = PCA(n_components=4)\n",
    "X_new=pca.fit_transform(X)\n",
    "print(pca.explained_variance_ratio_)"
   ]
  },
  {
   "cell_type": "code",
   "execution_count": 111,
   "metadata": {
    "collapsed": false
   },
   "outputs": [
    {
     "data": {
      "text/plain": [
       "0.94981630733183608"
      ]
     },
     "execution_count": 111,
     "metadata": {},
     "output_type": "execute_result"
    }
   ],
   "source": [
    "sum(pca.explained_variance_ratio_)"
   ]
  },
  {
   "cell_type": "code",
   "execution_count": 80,
   "metadata": {
    "collapsed": false
   },
   "outputs": [
    {
     "data": {
      "text/plain": [
       "array([3, 0, 2, 2, 2, 2, 2, 2, 2, 1, 2, 3, 0, 0, 2, 2, 2, 2, 2, 2, 0, 1, 4,\n",
       "       1, 1, 1], dtype=int32)"
      ]
     },
     "execution_count": 80,
     "metadata": {},
     "output_type": "execute_result"
    }
   ],
   "source": [
    "kmeans = KMeans(n_clusters=5, random_state=0).fit(X_new)\n",
    "kmeans.labels_"
   ]
  },
  {
   "cell_type": "code",
   "execution_count": 81,
   "metadata": {
    "collapsed": true
   },
   "outputs": [],
   "source": [
    "colors=[]\n",
    "for i in kmeans.labels_:\n",
    "    if i ==0:\n",
    "        colors.append('red')\n",
    "    elif i==1:\n",
    "        colors.append('blue')\n",
    "    elif i==2:\n",
    "        colors.append('green')\n",
    "    elif i==3:\n",
    "        colors.append('orange')\n",
    "    else:\n",
    "        colors.append('yellow')\n",
    "        "
   ]
  },
  {
   "cell_type": "code",
   "execution_count": 108,
   "metadata": {
    "collapsed": false
   },
   "outputs": [
    {
     "data": {
      "image/png": "[encoded data removed]",
      "text/plain": [
       "<matplotlib.figure.Figure at 0x11a636f28>"
      ]
     },
     "metadata": {},
     "output_type": "display_data"
    }
   ],
   "source": [
    "from adjustText import adjust_text\n",
    "x=X_new[:,0]\n",
    "y=X_new[:,1]\n",
    "n=scores_party.drop('All votations', axis=1).index.tolist()\n",
    "\n",
    "fig, ax = plt.subplots()\n",
    "ax.scatter(x, y,color=colors)\n",
    "texts = []\n",
    "for xt, yt, s in zip(x, y, n):\n",
    "        texts.append(plt.text(xt, yt, s))\n",
    "#for i, txt in enumerate(n):\n",
    "#    ax.annotate(txt, (x[i],y[i]))\n",
    "adjust_text(texts, arrowprops=dict(arrowstyle=\"-\", color='k', lw=0.5))\n",
    "plt.title('Clustering of the cantons \\n based on their score for each votation type')\n",
    "plt.xlabel('1st principal component')\n",
    "plt.ylabel('2nd principal component')\n",
    "\n",
    "fig.savefig('Cluster_cantons_pervottype.eps', format='eps')"
   ]
  },
  {
   "cell_type": "markdown",
   "metadata": {},
   "source": [
    "Interestingly, the cantons that are french speaking (blue cantons: Geneve, Jura, Neuchatel, Vaud and a part of Fribourg) clustered together. This reflects the cultural difference in Switzerland, than can be detected in the way people vote."
   ]
  },
  {
   "cell_type": "markdown",
   "metadata": {},
   "source": [
    "## Analysis of the correlations between the demographics and the scores for each type of votations"
   ]
  },
  {
   "cell_type": "markdown",
   "metadata": {},
   "source": [
    "With the score computed above we can test the correlation between the demographic features ofeahc canton and their score in the respective votations categories.\n",
    "\n",
    "We used a cross correlation test, to compute the regression coefficients between the demographics and the votations scores (for all votations or each votation types separately). The demographic parameters for which the p-value of the correlation was lower than 0.01 were considered being significantly correlated with the votations outcome"
   ]
  },
  {
   "cell_type": "code",
   "execution_count": 65,
   "metadata": {
    "collapsed": false
   },
   "outputs": [
    {
     "data": {
      "text/html": [
       "<div>\n",
       "<table border=\"1\" class=\"dataframe\">\n",
       "  <thead>\n",
       "    <tr style=\"text-align: right;\">\n",
       "      <th></th>\n",
       "      <th>edu_expense_per_hab_2010-2012</th>\n",
       "      <th>edu_expense_percent_total_2010-2012</th>\n",
       "      <th>Age distribution in % 0–19_2014</th>\n",
       "      <th>Age distribution in % 20–64_2014</th>\n",
       "      <th>Age distribution in % 65 years or over_2014</th>\n",
       "      <th>Agricultural area Change in %_1979/85-2004/09</th>\n",
       "      <th>Agricultural area in %_2004/09</th>\n",
       "      <th>Area in km2 4)_2004/09</th>\n",
       "      <th>Arrivals in hotels and spas in 1000_2014</th>\n",
       "      <th>Average length of stay in intensive care (days)_2013</th>\n",
       "      <th>...</th>\n",
       "      <th>pop_age_total_2011-2014</th>\n",
       "      <th>pop_age_swiss_2011-2014</th>\n",
       "      <th>pop_age_foreigner_2011-2014</th>\n",
       "      <th>perm_res_2011-2014</th>\n",
       "      <th>perm_res_change_2004-2014</th>\n",
       "      <th>Single_2011-2014</th>\n",
       "      <th>Married_2011-2014</th>\n",
       "      <th>Divorced_2011-2014</th>\n",
       "      <th>Widowed_2011-2014</th>\n",
       "      <th>Proportion_female_2011-2014</th>\n",
       "    </tr>\n",
       "  </thead>\n",
       "  <tbody>\n",
       "    <tr>\n",
       "      <th>ZH</th>\n",
       "      <td>4197.333333</td>\n",
       "      <td>26.666667</td>\n",
       "      <td>19.602532</td>\n",
       "      <td>63.573026</td>\n",
       "      <td>16.824443</td>\n",
       "      <td>-7.581552</td>\n",
       "      <td>41.654279</td>\n",
       "      <td>1728.85</td>\n",
       "      <td>2769.827</td>\n",
       "      <td>6.313217</td>\n",
       "      <td>...</td>\n",
       "      <td>41.296704</td>\n",
       "      <td>42.953998</td>\n",
       "      <td>36.368028</td>\n",
       "      <td>1409055.000</td>\n",
       "      <td>0.120941</td>\n",
       "      <td>0.450741</td>\n",
       "      <td>0.422531</td>\n",
       "      <td>0.085412</td>\n",
       "      <td>0.044979</td>\n",
       "      <td>0.504414</td>\n",
       "    </tr>\n",
       "    <tr>\n",
       "      <th>BE</th>\n",
       "      <td>3543.666667</td>\n",
       "      <td>25.000000</td>\n",
       "      <td>19.122306</td>\n",
       "      <td>60.943534</td>\n",
       "      <td>19.934160</td>\n",
       "      <td>-3.167849</td>\n",
       "      <td>42.578783</td>\n",
       "      <td>5959.40</td>\n",
       "      <td>2452.700</td>\n",
       "      <td>5.360471</td>\n",
       "      <td>...</td>\n",
       "      <td>43.087939</td>\n",
       "      <td>44.218315</td>\n",
       "      <td>36.320783</td>\n",
       "      <td>993388.500</td>\n",
       "      <td>0.045445</td>\n",
       "      <td>0.426365</td>\n",
       "      <td>0.438816</td>\n",
       "      <td>0.079606</td>\n",
       "      <td>0.057560</td>\n",
       "      <td>0.511327</td>\n",
       "    </tr>\n",
       "    <tr>\n",
       "      <th>LU</th>\n",
       "      <td>3492.333333</td>\n",
       "      <td>29.333333</td>\n",
       "      <td>20.829236</td>\n",
       "      <td>62.367589</td>\n",
       "      <td>16.803175</td>\n",
       "      <td>-3.962897</td>\n",
       "      <td>53.449454</td>\n",
       "      <td>1493.28</td>\n",
       "      <td>1089.328</td>\n",
       "      <td>6.212331</td>\n",
       "      <td>...</td>\n",
       "      <td>40.905594</td>\n",
       "      <td>42.078386</td>\n",
       "      <td>35.233512</td>\n",
       "      <td>386126.000</td>\n",
       "      <td>0.109032</td>\n",
       "      <td>0.457116</td>\n",
       "      <td>0.435550</td>\n",
       "      <td>0.063560</td>\n",
       "      <td>0.048224</td>\n",
       "      <td>0.504410</td>\n",
       "    </tr>\n",
       "    <tr>\n",
       "      <th>UR</th>\n",
       "      <td>3117.333333</td>\n",
       "      <td>22.333333</td>\n",
       "      <td>20.639858</td>\n",
       "      <td>60.186625</td>\n",
       "      <td>19.173517</td>\n",
       "      <td>-5.518644</td>\n",
       "      <td>24.176345</td>\n",
       "      <td>1076.30</td>\n",
       "      <td>134.459</td>\n",
       "      <td>5.937669</td>\n",
       "      <td>...</td>\n",
       "      <td>42.332524</td>\n",
       "      <td>42.957322</td>\n",
       "      <td>37.145483</td>\n",
       "      <td>35663.750</td>\n",
       "      <td>0.033698</td>\n",
       "      <td>0.428650</td>\n",
       "      <td>0.470036</td>\n",
       "      <td>0.045277</td>\n",
       "      <td>0.057285</td>\n",
       "      <td>0.490052</td>\n",
       "    </tr>\n",
       "    <tr>\n",
       "      <th>SZ</th>\n",
       "      <td>3039.666667</td>\n",
       "      <td>27.666667</td>\n",
       "      <td>20.256090</td>\n",
       "      <td>63.302981</td>\n",
       "      <td>16.440930</td>\n",
       "      <td>-3.500956</td>\n",
       "      <td>40.543815</td>\n",
       "      <td>908.03</td>\n",
       "      <td>317.623</td>\n",
       "      <td>5.020471</td>\n",
       "      <td>...</td>\n",
       "      <td>41.344154</td>\n",
       "      <td>42.505352</td>\n",
       "      <td>36.529887</td>\n",
       "      <td>149718.625</td>\n",
       "      <td>0.125042</td>\n",
       "      <td>0.436925</td>\n",
       "      <td>0.449719</td>\n",
       "      <td>0.072028</td>\n",
       "      <td>0.045372</td>\n",
       "      <td>0.488667</td>\n",
       "    </tr>\n",
       "  </tbody>\n",
       "</table>\n",
       "<p>5 rows × 78 columns</p>\n",
       "</div>"
      ],
      "text/plain": [
       "    edu_expense_per_hab_2010-2012  edu_expense_percent_total_2010-2012  \\\n",
       "ZH                    4197.333333                            26.666667   \n",
       "BE                    3543.666667                            25.000000   \n",
       "LU                    3492.333333                            29.333333   \n",
       "UR                    3117.333333                            22.333333   \n",
       "SZ                    3039.666667                            27.666667   \n",
       "\n",
       "    Age distribution in % 0–19_2014  Age distribution in % 20–64_2014  \\\n",
       "ZH                        19.602532                         63.573026   \n",
       "BE                        19.122306                         60.943534   \n",
       "LU                        20.829236                         62.367589   \n",
       "UR                        20.639858                         60.186625   \n",
       "SZ                        20.256090                         63.302981   \n",
       "\n",
       "    Age distribution in % 65 years or over_2014  \\\n",
       "ZH                                    16.824443   \n",
       "BE                                    19.934160   \n",
       "LU                                    16.803175   \n",
       "UR                                    19.173517   \n",
       "SZ                                    16.440930   \n",
       "\n",
       "    Agricultural area Change in %_1979/85-2004/09  \\\n",
       "ZH                                      -7.581552   \n",
       "BE                                      -3.167849   \n",
       "LU                                      -3.962897   \n",
       "UR                                      -5.518644   \n",
       "SZ                                      -3.500956   \n",
       "\n",
       "    Agricultural area in %_2004/09  Area in km2 4)_2004/09  \\\n",
       "ZH                       41.654279                 1728.85   \n",
       "BE                       42.578783                 5959.40   \n",
       "LU                       53.449454                 1493.28   \n",
       "UR                       24.176345                 1076.30   \n",
       "SZ                       40.543815                  908.03   \n",
       "\n",
       "    Arrivals in hotels and spas in 1000_2014  \\\n",
       "ZH                                  2769.827   \n",
       "BE                                  2452.700   \n",
       "LU                                  1089.328   \n",
       "UR                                   134.459   \n",
       "SZ                                   317.623   \n",
       "\n",
       "    Average length of stay in intensive care (days)_2013  \\\n",
       "ZH                                           6.313217      \n",
       "BE                                           5.360471      \n",
       "LU                                           6.212331      \n",
       "UR                                           5.937669      \n",
       "SZ                                           5.020471      \n",
       "\n",
       "               ...               pop_age_total_2011-2014  \\\n",
       "ZH             ...                             41.296704   \n",
       "BE             ...                             43.087939   \n",
       "LU             ...                             40.905594   \n",
       "UR             ...                             42.332524   \n",
       "SZ             ...                             41.344154   \n",
       "\n",
       "    pop_age_swiss_2011-2014  pop_age_foreigner_2011-2014  perm_res_2011-2014  \\\n",
       "ZH                42.953998                    36.368028         1409055.000   \n",
       "BE                44.218315                    36.320783          993388.500   \n",
       "LU                42.078386                    35.233512          386126.000   \n",
       "UR                42.957322                    37.145483           35663.750   \n",
       "SZ                42.505352                    36.529887          149718.625   \n",
       "\n",
       "    perm_res_change_2004-2014  Single_2011-2014  Married_2011-2014  \\\n",
       "ZH                   0.120941          0.450741           0.422531   \n",
       "BE                   0.045445          0.426365           0.438816   \n",
       "LU                   0.109032          0.457116           0.435550   \n",
       "UR                   0.033698          0.428650           0.470036   \n",
       "SZ                   0.125042          0.436925           0.449719   \n",
       "\n",
       "    Divorced_2011-2014  Widowed_2011-2014  Proportion_female_2011-2014  \n",
       "ZH            0.085412           0.044979                     0.504414  \n",
       "BE            0.079606           0.057560                     0.511327  \n",
       "LU            0.063560           0.048224                     0.504410  \n",
       "UR            0.045277           0.057285                     0.490052  \n",
       "SZ            0.072028           0.045372                     0.488667  \n",
       "\n",
       "[5 rows x 78 columns]"
      ]
     },
     "execution_count": 65,
     "metadata": {},
     "output_type": "execute_result"
    }
   ],
   "source": [
    "demographics_clean.head()"
   ]
  },
  {
   "cell_type": "code",
   "execution_count": 67,
   "metadata": {
    "collapsed": false
   },
   "outputs": [
    {
     "data": {
      "text/html": [
       "<div>\n",
       "<table border=\"1\" class=\"dataframe\">\n",
       "  <thead>\n",
       "    <tr style=\"text-align: right;\">\n",
       "      <th></th>\n",
       "      <th>All votations</th>\n",
       "      <th>economie</th>\n",
       "      <th>education</th>\n",
       "      <th>environnement</th>\n",
       "      <th>immigration</th>\n",
       "      <th>sante</th>\n",
       "      <th>securite</th>\n",
       "      <th>social</th>\n",
       "      <th>travail</th>\n",
       "      <th>Economie</th>\n",
       "      <th>Education</th>\n",
       "      <th>Environnement</th>\n",
       "      <th>Immigration</th>\n",
       "      <th>Sante</th>\n",
       "      <th>Securite</th>\n",
       "      <th>Social</th>\n",
       "      <th>Travail</th>\n",
       "    </tr>\n",
       "  </thead>\n",
       "  <tbody>\n",
       "    <tr>\n",
       "      <th>ZH</th>\n",
       "      <td>0.0714286</td>\n",
       "      <td>0.25</td>\n",
       "      <td>0.333333</td>\n",
       "      <td>-0.222222</td>\n",
       "      <td>0.333333</td>\n",
       "      <td>0.285714</td>\n",
       "      <td>0</td>\n",
       "      <td>-0.428571</td>\n",
       "      <td>0.6</td>\n",
       "      <td>0.25</td>\n",
       "      <td>0.333333</td>\n",
       "      <td>-0.222222</td>\n",
       "      <td>0.333333</td>\n",
       "      <td>0.285714</td>\n",
       "      <td>0</td>\n",
       "      <td>-0.428571</td>\n",
       "      <td>0.6</td>\n",
       "    </tr>\n",
       "    <tr>\n",
       "      <th>BE</th>\n",
       "      <td>0.166667</td>\n",
       "      <td>0.25</td>\n",
       "      <td>0.333333</td>\n",
       "      <td>-0.222222</td>\n",
       "      <td>0.333333</td>\n",
       "      <td>0.285714</td>\n",
       "      <td>0.5</td>\n",
       "      <td>-0.142857</td>\n",
       "      <td>0.6</td>\n",
       "      <td>0.25</td>\n",
       "      <td>0.333333</td>\n",
       "      <td>-0.222222</td>\n",
       "      <td>0.333333</td>\n",
       "      <td>0.285714</td>\n",
       "      <td>0.5</td>\n",
       "      <td>-0.142857</td>\n",
       "      <td>0.6</td>\n",
       "    </tr>\n",
       "    <tr>\n",
       "      <th>LU</th>\n",
       "      <td>0.261905</td>\n",
       "      <td>0.25</td>\n",
       "      <td>0.333333</td>\n",
       "      <td>0</td>\n",
       "      <td>0.333333</td>\n",
       "      <td>0.285714</td>\n",
       "      <td>1</td>\n",
       "      <td>-0.142857</td>\n",
       "      <td>0.6</td>\n",
       "      <td>0.25</td>\n",
       "      <td>0.333333</td>\n",
       "      <td>0</td>\n",
       "      <td>0.333333</td>\n",
       "      <td>0.285714</td>\n",
       "      <td>1</td>\n",
       "      <td>-0.142857</td>\n",
       "      <td>0.6</td>\n",
       "    </tr>\n",
       "    <tr>\n",
       "      <th>UR</th>\n",
       "      <td>0.214286</td>\n",
       "      <td>0.25</td>\n",
       "      <td>0.333333</td>\n",
       "      <td>0</td>\n",
       "      <td>0.333333</td>\n",
       "      <td>0.285714</td>\n",
       "      <td>1</td>\n",
       "      <td>-0.142857</td>\n",
       "      <td>0.2</td>\n",
       "      <td>0.25</td>\n",
       "      <td>0.333333</td>\n",
       "      <td>0</td>\n",
       "      <td>0.333333</td>\n",
       "      <td>0.285714</td>\n",
       "      <td>1</td>\n",
       "      <td>-0.142857</td>\n",
       "      <td>0.2</td>\n",
       "    </tr>\n",
       "    <tr>\n",
       "      <th>SZ</th>\n",
       "      <td>0.261905</td>\n",
       "      <td>0.25</td>\n",
       "      <td>0.333333</td>\n",
       "      <td>0</td>\n",
       "      <td>0.333333</td>\n",
       "      <td>0.285714</td>\n",
       "      <td>1</td>\n",
       "      <td>-0.142857</td>\n",
       "      <td>0.6</td>\n",
       "      <td>0.25</td>\n",
       "      <td>0.333333</td>\n",
       "      <td>0</td>\n",
       "      <td>0.333333</td>\n",
       "      <td>0.285714</td>\n",
       "      <td>1</td>\n",
       "      <td>-0.142857</td>\n",
       "      <td>0.6</td>\n",
       "    </tr>\n",
       "  </tbody>\n",
       "</table>\n",
       "</div>"
      ],
      "text/plain": [
       "   All votations economie education environnement immigration     sante  \\\n",
       "ZH     0.0714286     0.25  0.333333     -0.222222    0.333333  0.285714   \n",
       "BE      0.166667     0.25  0.333333     -0.222222    0.333333  0.285714   \n",
       "LU      0.261905     0.25  0.333333             0    0.333333  0.285714   \n",
       "UR      0.214286     0.25  0.333333             0    0.333333  0.285714   \n",
       "SZ      0.261905     0.25  0.333333             0    0.333333  0.285714   \n",
       "\n",
       "   securite    social travail Economie Education Environnement Immigration  \\\n",
       "ZH        0 -0.428571     0.6     0.25  0.333333     -0.222222    0.333333   \n",
       "BE      0.5 -0.142857     0.6     0.25  0.333333     -0.222222    0.333333   \n",
       "LU        1 -0.142857     0.6     0.25  0.333333             0    0.333333   \n",
       "UR        1 -0.142857     0.2     0.25  0.333333             0    0.333333   \n",
       "SZ        1 -0.142857     0.6     0.25  0.333333             0    0.333333   \n",
       "\n",
       "       Sante Securite    Social Travail  \n",
       "ZH  0.285714        0 -0.428571     0.6  \n",
       "BE  0.285714      0.5 -0.142857     0.6  \n",
       "LU  0.285714        1 -0.142857     0.6  \n",
       "UR  0.285714        1 -0.142857     0.2  \n",
       "SZ  0.285714        1 -0.142857     0.6  "
      ]
     },
     "execution_count": 67,
     "metadata": {},
     "output_type": "execute_result"
    }
   ],
   "source": [
    "scores_party.head()"
   ]
  },
  {
   "cell_type": "markdown",
   "metadata": {},
   "source": [
    "### Cross correlations for all the votations together"
   ]
  },
  {
   "cell_type": "markdown",
   "metadata": {},
   "source": [
    "Here the votations were not splitted in categories and the score that was analysed was the one computed with all the votations together.\n",
    "\n",
    "The significant features and the p-values of the correlations were saved in a dataframe"
   ]
  },
  {
   "cell_type": "code",
   "execution_count": 178,
   "metadata": {
    "collapsed": true
   },
   "outputs": [],
   "source": [
    "x=np.array(demographics_clean)\n",
    "y=np.array(scores_party['All votations']).astype(float)\n",
    "# standardize the data\n",
    "y = scale(y, axis=0, with_mean=True, with_std=True, copy=True)"
   ]
  },
  {
   "cell_type": "code",
   "execution_count": 179,
   "metadata": {
    "collapsed": false
   },
   "outputs": [],
   "source": [
    "# find the features significantly correlated\n",
    "F, p_val=feature_selection.f_regression(x, y, center=True)\n",
    "feat_name=demographics_clean.columns.tolist()\n",
    "significant_features=[i for i,j in zip(feat_name,p_val) if j <0.01]\n",
    "significant_pval=[j for i,j in zip(feat_name,p_val) if j <0.01]"
   ]
  },
  {
   "cell_type": "code",
   "execution_count": 180,
   "metadata": {
    "collapsed": false
   },
   "outputs": [],
   "source": [
    "# create a dataframe with the features and the p-value associated\n",
    "Significant_features_corr=pd.DataFrame()"
   ]
  },
  {
   "cell_type": "code",
   "execution_count": 181,
   "metadata": {
    "collapsed": true
   },
   "outputs": [],
   "source": [
    "Significant_features_corr['Features']=significant_features\n",
    "Significant_features_corr['p-value']=significant_pval"
   ]
  },
  {
   "cell_type": "code",
   "execution_count": 121,
   "metadata": {
    "collapsed": true
   },
   "outputs": [],
   "source": [
    "signif_features=pd.DataFrame(index=significant_features)"
   ]
  },
  {
   "cell_type": "code",
   "execution_count": 122,
   "metadata": {
    "collapsed": false
   },
   "outputs": [],
   "source": [
    "writer = pd.ExcelWriter('Tables/Demographic/Significant_demographics.xlsx')\n",
    "signif_features.to_excel(writer,sheet_name = 'Sheet1') # table is stored in Sheet 1\n",
    "writer.save()"
   ]
  },
  {
   "cell_type": "markdown",
   "metadata": {},
   "source": [
    "### Cross correlation per type of votation"
   ]
  },
  {
   "cell_type": "markdown",
   "metadata": {},
   "source": [
    "Now we computed the cross correlation between the demographics and the scores for each categories of votations"
   ]
  },
  {
   "cell_type": "code",
   "execution_count": 123,
   "metadata": {
    "collapsed": false
   },
   "outputs": [
    {
     "name": "stderr",
     "output_type": "stream",
     "text": [
      "/Users/lugrinclaire/anaconda/lib/python3.5/site-packages/sklearn/preprocessing/data.py:184: UserWarning: Numerical issues were encountered when scaling the data and might not be solved. The standard deviation of the data is probably very close to 0. \n",
      "  warnings.warn(\"Numerical issues were encountered \"\n"
     ]
    }
   ],
   "source": [
    "significant_feature_vot_type={}\n",
    "\n",
    "# the features are always the same\n",
    "x=np.array(demographics_clean)\n",
    "\n",
    "for typ in range(0,8):\n",
    "    # the outcome depends on each party \n",
    "    y=np.array(scores_party[typevot2str[typ]]).astype(float)\n",
    "    # standardize the data\n",
    "    y = scale(y, axis=0, with_mean=True, with_std=True, copy=True)\n",
    "    # find the features significantly correlated\n",
    "    F, p_val=feature_selection.f_regression(x, y, center=True)\n",
    "    feat_name=demographics_clean.columns.tolist()\n",
    "    significant_feature_vot_type[typevot2str[typ]]=[i for i,j in zip(feat_name,p_val) if j <0.05]\n",
    "     "
   ]
  },
  {
   "cell_type": "code",
   "execution_count": 125,
   "metadata": {
    "collapsed": false
   },
   "outputs": [
    {
     "data": {
      "text/plain": [
       "['Age distribution in % 0–19_2014',\n",
       " 'Age distribution in % 20–64_2014',\n",
       " 'Crude marriage rate_2014',\n",
       " 'Main language in % French_2013',\n",
       " 'Main language in % German_2013',\n",
       " 'Tertiary level (aged 25 or over)_2013',\n",
       " 'Without post-compulsory education (aged 25 or over)_2013']"
      ]
     },
     "execution_count": 125,
     "metadata": {},
     "output_type": "execute_result"
    }
   ],
   "source": [
    "# Display the features significantly correlated with the \"work\" votations outcome\n",
    "significant_feature_vot_type['Travail']"
   ]
  },
  {
   "cell_type": "markdown",
   "metadata": {},
   "source": [
    "The significant features were not all the same for the different categories of votations"
   ]
  },
  {
   "cell_type": "markdown",
   "metadata": {},
   "source": [
    "## Plot the linear regression"
   ]
  },
  {
   "cell_type": "markdown",
   "metadata": {},
   "source": [
    "The demographic parameters that significantly correlated with the outcome of the votations were used to display linear regressions.\n",
    "The correlation coefficient were saved, as an indicator of the effect of these features (they reflect the effect size, and their sign indicate if the effect is positive or negative). "
   ]
  },
  {
   "cell_type": "code",
   "execution_count": 182,
   "metadata": {
    "collapsed": false
   },
   "outputs": [
    {
     "name": "stderr",
     "output_type": "stream",
     "text": [
      "/Users/lugrinclaire/anaconda/lib/python3.5/site-packages/ipykernel/__main__.py:9: SettingWithCopyWarning: \n",
      "A value is trying to be set on a copy of a slice from a DataFrame\n",
      "\n",
      "See the caveats in the documentation: http://pandas.pydata.org/pandas-docs/stable/indexing.html#indexing-view-versus-copy\n"
     ]
    }
   ],
   "source": [
    "Significant_features_corr['Correlation coefficient']=''\n",
    "for i in range(len(significant_pval)):\n",
    "    x=np.array(demographics_clean[significant_features[i]])\n",
    "    y=np.array(scores_party['All votations'])\n",
    "\n",
    "    #fit a linear regression line\n",
    "    slope, intercept, r_value, p_value, std_err = stats.linregress(x,y)\n",
    "    \n",
    "    Significant_features_corr['Correlation coefficient'][i]=r_value\n",
    "    "
   ]
  },
  {
   "cell_type": "code",
   "execution_count": 183,
   "metadata": {
    "collapsed": true
   },
   "outputs": [],
   "source": [
    "writer = pd.ExcelWriter('Tables/Demographic/Significant_features_details.xlsx')\n",
    "Significant_features_corr.to_excel(writer,sheet_name = 'Sheet1') # table is stored in Sheet 1\n",
    "writer.save()"
   ]
  },
  {
   "cell_type": "code",
   "execution_count": 163,
   "metadata": {
    "collapsed": false
   },
   "outputs": [
    {
     "data": {
      "text/plain": [
       "<matplotlib.text.Text at 0x11c5385f8>"
      ]
     },
     "execution_count": 163,
     "metadata": {},
     "output_type": "execute_result"
    },
    {
     "data": {
      "image/png": "[encoded data removed]",
      "text/plain": [
       "<matplotlib.figure.Figure at 0x11c50b048>"
      ]
     },
     "metadata": {},
     "output_type": "display_data"
    }
   ],
   "source": [
    "# chose the parameter to plot among the significant ones\n",
    "i=15\n",
    "#define x and y\n",
    "\n",
    "x=np.array(demographics_clean[significant_features[i]])\n",
    "y=np.array(scores_party['All votations'])\n",
    "\n",
    "#fit a linear regression line\n",
    "slope, intercept, r_value, p_value, std_err = stats.linregress(x,y)\n",
    "abline_values = [slope * i + intercept for i in x]\n",
    "\n",
    "fig, ax = plt.subplots()\n",
    "ax.scatter(x, y)\n",
    "plt.plot(x, abline_values, 'k')\n",
    "plt.xlabel(significant_features[i])\n",
    "#plt.xlabel('')\n",
    "plt.ylabel('Score')\n",
    "plt.legend(['Regression curve','Cantons'],loc='upper right')\n",
    "plt.figtext(0.15, 0.4, 'p-value = '+ str(p_value)[0:6]+'\\nR2 = '+ str(r_value**2)[0:4] )\n",
    "\n",
    "plt.title('Unemployement rate and political scores\\n for all votations')\n",
    "#fig.savefig('unemployement_politicalscore.eps', format='eps')"
   ]
  },
  {
   "cell_type": "markdown",
   "metadata": {},
   "source": [
    "More correlations visualisations can be found in the Figure folder, in the subfolder correlations, or on the poster.\n",
    "\n",
    "The detail of the features correlating with the votations outcome is displayed on the poster"
   ]
  },
  {
   "cell_type": "markdown",
   "metadata": {},
   "source": [
    "### Linear regression for the different votations categories"
   ]
  },
  {
   "cell_type": "markdown",
   "metadata": {},
   "source": [
    "We computed the linear regression coefficients also for the significant correlations between the demogrphics and the scores for the votations of each category."
   ]
  },
  {
   "cell_type": "code",
   "execution_count": 200,
   "metadata": {
    "collapsed": false
   },
   "outputs": [
    {
     "data": {
      "text/plain": [
       "Index(['All votations', 'Economie', 'Education', 'Environnement',\n",
       "       'Immigration', 'Sante', 'Securite', 'Social', 'Travail'],\n",
       "      dtype='object')"
      ]
     },
     "execution_count": 200,
     "metadata": {},
     "output_type": "execute_result"
    }
   ],
   "source": [
    "scores_party.columns"
   ]
  },
  {
   "cell_type": "code",
   "execution_count": 209,
   "metadata": {
    "collapsed": false
   },
   "outputs": [
    {
     "data": {
      "text/plain": [
       "<matplotlib.text.Text at 0x11fe08f98>"
      ]
     },
     "execution_count": 209,
     "metadata": {},
     "output_type": "execute_result"
    },
    {
     "data": {
      "image/png": "[encoded data removed]",
      "text/plain": [
       "<matplotlib.figure.Figure at 0x12178e668>"
      ]
     },
     "metadata": {},
     "output_type": "display_data"
    }
   ],
   "source": [
    "#define x and y\n",
    "\n",
    "x=np.array(demographics_clean[significant_features[i]])\n",
    "y=np.array(scores_party['Securite'])\n",
    "\n",
    "#fit a linear regression line\n",
    "slope, intercept, r_value, p_value, std_err = stats.linregress(x,y)\n",
    "abline_values = [slope * i + intercept for i in x]\n",
    "\n",
    "fig, ax = plt.subplots()\n",
    "ax.scatter(x, y)\n",
    "plt.plot(x, abline_values, 'k')\n",
    "plt.xlabel(significant_features[i])\n",
    "plt.ylabel('Score')\n",
    "plt.legend(['Regression curve','Scores'],loc='lower left')\n",
    "plt.figtext(0.15, 0.4, 'p-value = '+ str(p_value)[0:6]+'\\nR2 = '+ str(r_value**2)[0:4] )\n",
    "\n",
    "plt.title('Proportion and female and political scores \\n for Education votations')"
   ]
  },
  {
   "cell_type": "markdown",
   "metadata": {},
   "source": [
    "Due to scores often spread in 2 or 3 values only for each votation categories this type of representation is not optimal to show the influence of one parameter on the tendency of vote of each cantons.\n",
    "\n",
    "Here we can still see that when the proportion of female in the popualtion, the outcome of the votations concerning education follows more the left recommendations"
   ]
  },
  {
   "cell_type": "markdown",
   "metadata": {},
   "source": [
    "### GLM to test all the parameters at once and find % of variance explained"
   ]
  },
  {
   "cell_type": "markdown",
   "metadata": {},
   "source": [
    "So far we tested all the features independently. But it is also interesting to test a regression that has all of these parameters together.\n",
    "\n",
    "We used a GLM to predict the scores (for all votations together) from the significant features."
   ]
  },
  {
   "cell_type": "code",
   "execution_count": 230,
   "metadata": {
    "collapsed": true
   },
   "outputs": [],
   "source": [
    "x=np.array(demographics_clean[significant_features]).astype(float)\n",
    "y=np.array(scores_party['All votations']).astype(float)"
   ]
  },
  {
   "cell_type": "code",
   "execution_count": 231,
   "metadata": {
    "collapsed": true
   },
   "outputs": [],
   "source": [
    "import statsmodels.api as sm\n",
    "x= sm.add_constant(x, prepend=False)"
   ]
  },
  {
   "cell_type": "code",
   "execution_count": 232,
   "metadata": {
    "collapsed": false
   },
   "outputs": [
    {
     "name": "stdout",
     "output_type": "stream",
     "text": [
      "                 Generalized Linear Model Regression Results                  \n",
      "==============================================================================\n",
      "Dep. Variable:                      y   No. Observations:                   26\n",
      "Model:                            GLM   Df Residuals:                        0\n",
      "Model Family:                Gaussian   Df Model:                           25\n",
      "Link Function:                    log   Scale:                             inf\n",
      "Method:                          IRLS   Log-Likelihood:                   -inf\n",
      "Date:                Mon, 30 Jan 2017   Deviance:                     0.034580\n",
      "Time:                        00:11:32   Pearson chi2:                   0.0346\n",
      "No. Iterations:                   100                                         \n",
      "==============================================================================\n",
      "                 coef    std err          z      P>|z|      [95.0% Conf. Int.]\n",
      "------------------------------------------------------------------------------\n",
      "x1             0.1566        inf          0      1.000          -inf       inf\n",
      "x2            36.4450        inf          0      1.000          -inf       inf\n",
      "x3          -108.1502        inf         -0      1.000          -inf       inf\n",
      "x4           215.8452        inf          0      1.000          -inf       inf\n",
      "x5            10.2147        inf          0      1.000          -inf       inf\n",
      "x6          -253.2004        inf         -0      1.000          -inf       inf\n",
      "x7           975.8428        inf          0      1.000          -inf       inf\n",
      "x8          -113.6709        inf         -0      1.000          -inf       inf\n",
      "x9           -81.1480        inf         -0      1.000          -inf       inf\n",
      "x10          -42.8553        inf         -0      1.000          -inf       inf\n",
      "x11          -15.1949        inf         -0      1.000          -inf       inf\n",
      "x12          -15.5208        inf         -0      1.000          -inf       inf\n",
      "x13          -12.8661        inf         -0      1.000          -inf       inf\n",
      "x14          -19.7028        inf         -0      1.000          -inf       inf\n",
      "x15         -160.4174        inf         -0      1.000          -inf       inf\n",
      "x16           -1.7650        inf         -0      1.000          -inf       inf\n",
      "x17           -5.0147        inf         -0      1.000          -inf       inf\n",
      "x18            9.6028        inf          0      1.000          -inf       inf\n",
      "x19         -388.1881        inf         -0      1.000          -inf       inf\n",
      "x20          318.3567        inf          0      1.000          -inf       inf\n",
      "x21          -31.3619        inf         -0      1.000          -inf       inf\n",
      "x22           84.6596        inf          0      1.000          -inf       inf\n",
      "x23          -54.6015        inf         -0      1.000          -inf       inf\n",
      "x24         3.827e+04        inf          0      1.000          -inf       inf\n",
      "x25         7250.7311        inf          0      1.000          -inf       inf\n",
      "x26        -8655.4151        inf         -0      1.000          -inf       inf\n",
      "const       3962.5223        inf          0      1.000          -inf       inf\n",
      "==============================================================================\n"
     ]
    }
   ],
   "source": [
    "glm_binom = sm.GLM(y, x, family=sm.families.Gaussian(sm.families.links.log))\n",
    "res = glm_binom.fit()\n",
    "print(res.summary())"
   ]
  },
  {
   "cell_type": "code",
   "execution_count": 233,
   "metadata": {
    "collapsed": false
   },
   "outputs": [],
   "source": [
    "means = x.mean(axis=0)\n",
    "means25 = means.copy()\n",
    "means25[0] = stats.scoreatpercentile(x[:,0], 25)\n",
    "means75 = means.copy()\n",
    "means75[0] = lowinc_75per = stats.scoreatpercentile(x[:,0], 75)\n",
    "resp_25 = res.predict(means25)\n",
    "resp_75 = res.predict(means75)\n",
    "diff = resp_75 - resp_25"
   ]
  },
  {
   "cell_type": "code",
   "execution_count": 234,
   "metadata": {
    "collapsed": true
   },
   "outputs": [],
   "source": [
    "from statsmodels.graphics.api import abline_plot\n"
   ]
  },
  {
   "cell_type": "code",
   "execution_count": 235,
   "metadata": {
    "collapsed": false
   },
   "outputs": [],
   "source": [
    "yhat=res.mu"
   ]
  },
  {
   "cell_type": "code",
   "execution_count": 236,
   "metadata": {
    "collapsed": false
   },
   "outputs": [
    {
     "data": {
      "image/png": "[encoded data removed]",
      "text/plain": [
       "<matplotlib.figure.Figure at 0x11d3d04e0>"
      ]
     },
     "metadata": {},
     "output_type": "display_data"
    }
   ],
   "source": [
    "fig, ax = plt.subplots()\n",
    "ax.scatter(yhat, y)\n",
    "line_fit = sm.OLS(y, sm.add_constant(yhat, prepend=True)).fit()\n",
    "abline_plot(model_results=line_fit, ax=ax)\n",
    "\n",
    "\n",
    "ax.set_title('Model Fit Plot')\n",
    "ax.set_ylabel('Observed values')\n",
    "ax.set_xlabel('Fitted values');"
   ]
  },
  {
   "cell_type": "markdown",
   "metadata": {},
   "source": [
    "The significant features allow a satisfying prediction of the votations outcome for the positive scores (right recommendations) however the prediction for the negative scores is not very good.\n",
    "\n",
    "The model used here might not be the most appropriated one, we should try some better form of regression.\n"
   ]
  },
  {
   "cell_type": "markdown",
   "metadata": {},
   "source": [
    "# Random forest to predict the outcome of a votation of one category"
   ]
  },
  {
   "cell_type": "markdown",
   "metadata": {},
   "source": [
    "We can train some classifiers to predict the binary outcome of the votations (Right won: 1, Left won :2 of both won:0)\n",
    "\n",
    "This is also not optimal because we test the classifier "
   ]
  },
  {
   "cell_type": "markdown",
   "metadata": {},
   "source": [
    "### Run a random forrest for each votation category, compute the accuracy and stdev"
   ]
  },
  {
   "cell_type": "code",
   "execution_count": 313,
   "metadata": {
    "collapsed": false
   },
   "outputs": [
    {
     "data": {
      "text/html": [
       "<div>\n",
       "<table border=\"1\" class=\"dataframe\">\n",
       "  <thead>\n",
       "    <tr style=\"text-align: right;\">\n",
       "      <th></th>\n",
       "      <th>All votations</th>\n",
       "      <th>Economie</th>\n",
       "      <th>Education</th>\n",
       "      <th>Environnement</th>\n",
       "      <th>Immigration</th>\n",
       "      <th>Sante</th>\n",
       "      <th>Securite</th>\n",
       "      <th>Social</th>\n",
       "      <th>Travail</th>\n",
       "    </tr>\n",
       "  </thead>\n",
       "  <tbody>\n",
       "    <tr>\n",
       "      <th>ZH</th>\n",
       "      <td>1</td>\n",
       "      <td>1</td>\n",
       "      <td>1</td>\n",
       "      <td>2</td>\n",
       "      <td>1</td>\n",
       "      <td>1</td>\n",
       "      <td>0</td>\n",
       "      <td>2</td>\n",
       "      <td>1</td>\n",
       "    </tr>\n",
       "    <tr>\n",
       "      <th>BE</th>\n",
       "      <td>1</td>\n",
       "      <td>1</td>\n",
       "      <td>1</td>\n",
       "      <td>2</td>\n",
       "      <td>1</td>\n",
       "      <td>1</td>\n",
       "      <td>1</td>\n",
       "      <td>2</td>\n",
       "      <td>1</td>\n",
       "    </tr>\n",
       "    <tr>\n",
       "      <th>LU</th>\n",
       "      <td>1</td>\n",
       "      <td>1</td>\n",
       "      <td>1</td>\n",
       "      <td>0</td>\n",
       "      <td>1</td>\n",
       "      <td>1</td>\n",
       "      <td>1</td>\n",
       "      <td>2</td>\n",
       "      <td>1</td>\n",
       "    </tr>\n",
       "    <tr>\n",
       "      <th>UR</th>\n",
       "      <td>1</td>\n",
       "      <td>1</td>\n",
       "      <td>1</td>\n",
       "      <td>0</td>\n",
       "      <td>1</td>\n",
       "      <td>1</td>\n",
       "      <td>1</td>\n",
       "      <td>2</td>\n",
       "      <td>1</td>\n",
       "    </tr>\n",
       "    <tr>\n",
       "      <th>SZ</th>\n",
       "      <td>1</td>\n",
       "      <td>1</td>\n",
       "      <td>1</td>\n",
       "      <td>0</td>\n",
       "      <td>1</td>\n",
       "      <td>1</td>\n",
       "      <td>1</td>\n",
       "      <td>2</td>\n",
       "      <td>1</td>\n",
       "    </tr>\n",
       "    <tr>\n",
       "      <th>OW</th>\n",
       "      <td>1</td>\n",
       "      <td>1</td>\n",
       "      <td>1</td>\n",
       "      <td>0</td>\n",
       "      <td>1</td>\n",
       "      <td>1</td>\n",
       "      <td>1</td>\n",
       "      <td>2</td>\n",
       "      <td>1</td>\n",
       "    </tr>\n",
       "    <tr>\n",
       "      <th>NW</th>\n",
       "      <td>1</td>\n",
       "      <td>1</td>\n",
       "      <td>1</td>\n",
       "      <td>0</td>\n",
       "      <td>1</td>\n",
       "      <td>1</td>\n",
       "      <td>1</td>\n",
       "      <td>2</td>\n",
       "      <td>1</td>\n",
       "    </tr>\n",
       "    <tr>\n",
       "      <th>GL</th>\n",
       "      <td>1</td>\n",
       "      <td>1</td>\n",
       "      <td>1</td>\n",
       "      <td>0</td>\n",
       "      <td>1</td>\n",
       "      <td>1</td>\n",
       "      <td>1</td>\n",
       "      <td>2</td>\n",
       "      <td>1</td>\n",
       "    </tr>\n",
       "    <tr>\n",
       "      <th>ZG</th>\n",
       "      <td>1</td>\n",
       "      <td>1</td>\n",
       "      <td>1</td>\n",
       "      <td>0</td>\n",
       "      <td>1</td>\n",
       "      <td>1</td>\n",
       "      <td>1</td>\n",
       "      <td>2</td>\n",
       "      <td>1</td>\n",
       "    </tr>\n",
       "    <tr>\n",
       "      <th>FR</th>\n",
       "      <td>2</td>\n",
       "      <td>1</td>\n",
       "      <td>2</td>\n",
       "      <td>2</td>\n",
       "      <td>1</td>\n",
       "      <td>1</td>\n",
       "      <td>1</td>\n",
       "      <td>2</td>\n",
       "      <td>1</td>\n",
       "    </tr>\n",
       "    <tr>\n",
       "      <th>SO</th>\n",
       "      <td>1</td>\n",
       "      <td>1</td>\n",
       "      <td>1</td>\n",
       "      <td>2</td>\n",
       "      <td>1</td>\n",
       "      <td>1</td>\n",
       "      <td>1</td>\n",
       "      <td>2</td>\n",
       "      <td>1</td>\n",
       "    </tr>\n",
       "    <tr>\n",
       "      <th>BS</th>\n",
       "      <td>1</td>\n",
       "      <td>1</td>\n",
       "      <td>1</td>\n",
       "      <td>2</td>\n",
       "      <td>1</td>\n",
       "      <td>1</td>\n",
       "      <td>0</td>\n",
       "      <td>2</td>\n",
       "      <td>1</td>\n",
       "    </tr>\n",
       "    <tr>\n",
       "      <th>BL</th>\n",
       "      <td>1</td>\n",
       "      <td>1</td>\n",
       "      <td>1</td>\n",
       "      <td>0</td>\n",
       "      <td>1</td>\n",
       "      <td>1</td>\n",
       "      <td>1</td>\n",
       "      <td>2</td>\n",
       "      <td>1</td>\n",
       "    </tr>\n",
       "    <tr>\n",
       "      <th>SH</th>\n",
       "      <td>1</td>\n",
       "      <td>2</td>\n",
       "      <td>1</td>\n",
       "      <td>2</td>\n",
       "      <td>1</td>\n",
       "      <td>1</td>\n",
       "      <td>1</td>\n",
       "      <td>2</td>\n",
       "      <td>1</td>\n",
       "    </tr>\n",
       "    <tr>\n",
       "      <th>AR</th>\n",
       "      <td>1</td>\n",
       "      <td>1</td>\n",
       "      <td>1</td>\n",
       "      <td>2</td>\n",
       "      <td>1</td>\n",
       "      <td>1</td>\n",
       "      <td>1</td>\n",
       "      <td>2</td>\n",
       "      <td>1</td>\n",
       "    </tr>\n",
       "    <tr>\n",
       "      <th>AI</th>\n",
       "      <td>1</td>\n",
       "      <td>1</td>\n",
       "      <td>1</td>\n",
       "      <td>0</td>\n",
       "      <td>1</td>\n",
       "      <td>1</td>\n",
       "      <td>1</td>\n",
       "      <td>2</td>\n",
       "      <td>1</td>\n",
       "    </tr>\n",
       "    <tr>\n",
       "      <th>SG</th>\n",
       "      <td>1</td>\n",
       "      <td>1</td>\n",
       "      <td>1</td>\n",
       "      <td>2</td>\n",
       "      <td>1</td>\n",
       "      <td>1</td>\n",
       "      <td>1</td>\n",
       "      <td>2</td>\n",
       "      <td>1</td>\n",
       "    </tr>\n",
       "    <tr>\n",
       "      <th>GR</th>\n",
       "      <td>1</td>\n",
       "      <td>1</td>\n",
       "      <td>1</td>\n",
       "      <td>2</td>\n",
       "      <td>1</td>\n",
       "      <td>1</td>\n",
       "      <td>1</td>\n",
       "      <td>2</td>\n",
       "      <td>1</td>\n",
       "    </tr>\n",
       "    <tr>\n",
       "      <th>AG</th>\n",
       "      <td>1</td>\n",
       "      <td>1</td>\n",
       "      <td>1</td>\n",
       "      <td>2</td>\n",
       "      <td>1</td>\n",
       "      <td>1</td>\n",
       "      <td>1</td>\n",
       "      <td>2</td>\n",
       "      <td>1</td>\n",
       "    </tr>\n",
       "    <tr>\n",
       "      <th>TG</th>\n",
       "      <td>1</td>\n",
       "      <td>1</td>\n",
       "      <td>1</td>\n",
       "      <td>2</td>\n",
       "      <td>1</td>\n",
       "      <td>1</td>\n",
       "      <td>1</td>\n",
       "      <td>2</td>\n",
       "      <td>1</td>\n",
       "    </tr>\n",
       "    <tr>\n",
       "      <th>TI</th>\n",
       "      <td>1</td>\n",
       "      <td>1</td>\n",
       "      <td>1</td>\n",
       "      <td>1</td>\n",
       "      <td>1</td>\n",
       "      <td>1</td>\n",
       "      <td>1</td>\n",
       "      <td>2</td>\n",
       "      <td>1</td>\n",
       "    </tr>\n",
       "    <tr>\n",
       "      <th>VD</th>\n",
       "      <td>2</td>\n",
       "      <td>1</td>\n",
       "      <td>2</td>\n",
       "      <td>2</td>\n",
       "      <td>1</td>\n",
       "      <td>0</td>\n",
       "      <td>0</td>\n",
       "      <td>2</td>\n",
       "      <td>1</td>\n",
       "    </tr>\n",
       "    <tr>\n",
       "      <th>VS</th>\n",
       "      <td>1</td>\n",
       "      <td>1</td>\n",
       "      <td>2</td>\n",
       "      <td>1</td>\n",
       "      <td>1</td>\n",
       "      <td>1</td>\n",
       "      <td>1</td>\n",
       "      <td>2</td>\n",
       "      <td>1</td>\n",
       "    </tr>\n",
       "    <tr>\n",
       "      <th>NE</th>\n",
       "      <td>2</td>\n",
       "      <td>1</td>\n",
       "      <td>2</td>\n",
       "      <td>2</td>\n",
       "      <td>1</td>\n",
       "      <td>0</td>\n",
       "      <td>0</td>\n",
       "      <td>2</td>\n",
       "      <td>1</td>\n",
       "    </tr>\n",
       "    <tr>\n",
       "      <th>GE</th>\n",
       "      <td>2</td>\n",
       "      <td>1</td>\n",
       "      <td>2</td>\n",
       "      <td>2</td>\n",
       "      <td>1</td>\n",
       "      <td>2</td>\n",
       "      <td>0</td>\n",
       "      <td>2</td>\n",
       "      <td>1</td>\n",
       "    </tr>\n",
       "    <tr>\n",
       "      <th>JU</th>\n",
       "      <td>2</td>\n",
       "      <td>1</td>\n",
       "      <td>2</td>\n",
       "      <td>2</td>\n",
       "      <td>1</td>\n",
       "      <td>0</td>\n",
       "      <td>0</td>\n",
       "      <td>2</td>\n",
       "      <td>1</td>\n",
       "    </tr>\n",
       "  </tbody>\n",
       "</table>\n",
       "</div>"
      ],
      "text/plain": [
       "    All votations  Economie  Education  Environnement  Immigration  Sante  \\\n",
       "ZH              1         1          1              2            1      1   \n",
       "BE              1         1          1              2            1      1   \n",
       "LU              1         1          1              0            1      1   \n",
       "UR              1         1          1              0            1      1   \n",
       "SZ              1         1          1              0            1      1   \n",
       "OW              1         1          1              0            1      1   \n",
       "NW              1         1          1              0            1      1   \n",
       "GL              1         1          1              0            1      1   \n",
       "ZG              1         1          1              0            1      1   \n",
       "FR              2         1          2              2            1      1   \n",
       "SO              1         1          1              2            1      1   \n",
       "BS              1         1          1              2            1      1   \n",
       "BL              1         1          1              0            1      1   \n",
       "SH              1         2          1              2            1      1   \n",
       "AR              1         1          1              2            1      1   \n",
       "AI              1         1          1              0            1      1   \n",
       "SG              1         1          1              2            1      1   \n",
       "GR              1         1          1              2            1      1   \n",
       "AG              1         1          1              2            1      1   \n",
       "TG              1         1          1              2            1      1   \n",
       "TI              1         1          1              1            1      1   \n",
       "VD              2         1          2              2            1      0   \n",
       "VS              1         1          2              1            1      1   \n",
       "NE              2         1          2              2            1      0   \n",
       "GE              2         1          2              2            1      2   \n",
       "JU              2         1          2              2            1      0   \n",
       "\n",
       "    Securite  Social  Travail  \n",
       "ZH         0       2        1  \n",
       "BE         1       2        1  \n",
       "LU         1       2        1  \n",
       "UR         1       2        1  \n",
       "SZ         1       2        1  \n",
       "OW         1       2        1  \n",
       "NW         1       2        1  \n",
       "GL         1       2        1  \n",
       "ZG         1       2        1  \n",
       "FR         1       2        1  \n",
       "SO         1       2        1  \n",
       "BS         0       2        1  \n",
       "BL         1       2        1  \n",
       "SH         1       2        1  \n",
       "AR         1       2        1  \n",
       "AI         1       2        1  \n",
       "SG         1       2        1  \n",
       "GR         1       2        1  \n",
       "AG         1       2        1  \n",
       "TG         1       2        1  \n",
       "TI         1       2        1  \n",
       "VD         0       2        1  \n",
       "VS         1       2        1  \n",
       "NE         0       2        1  \n",
       "GE         0       2        1  \n",
       "JU         0       2        1  "
      ]
     },
     "execution_count": 313,
     "metadata": {},
     "output_type": "execute_result"
    }
   ],
   "source": [
    "winning_group"
   ]
  },
  {
   "cell_type": "code",
   "execution_count": 332,
   "metadata": {
    "collapsed": false
   },
   "outputs": [],
   "source": [
    "mean_acc=[]\n",
    "std_acc=[]\n",
    "for i,j in enumerate(winning_group.columns):\n",
    "    feat=np.array(demographics_clean[significant_features]).astype(float)\n",
    "    labels=np.array(winning_group[j])\n",
    "    classifier = RandomForestClassifier(max_depth = None , n_estimators = 100) \n",
    "\n",
    "    #classify and compute accuracy\n",
    "    accuracy, classifier = build_RF(10,feat,labels,classifier)\n",
    "\n",
    "    # Display accuracy\n",
    "    mean_acc.append(np.mean(accuracy))\n",
    "    std_acc.append(np.std(accuracy))\n",
    "\n",
    "    "
   ]
  },
  {
   "cell_type": "code",
   "execution_count": 337,
   "metadata": {
    "collapsed": false
   },
   "outputs": [
    {
     "data": {
      "image/png": "[encoded data removed]",
      "text/plain": [
       "<matplotlib.figure.Figure at 0x11d3aec88>"
      ]
     },
     "metadata": {},
     "output_type": "display_data"
    }
   ],
   "source": [
    "fig, ax = plt.subplots()\n",
    "ind = np.arange(len(mean_acc))  # the x locations for the groups\n",
    "width = 0.35 \n",
    "plt.bar(ind, mean_acc, width, color='grey', yerr=std_acc)\n",
    "plt.ylabel('Classifier accuracy')\n",
    "plt.title('Classification of winning group \\naccuracy per category of votation')\n",
    "plt.xticks(ind,winning_group.columns.tolist(), rotation=45)\n",
    "fig.savefig('classifier_eachcategory.eps', format='eps')"
   ]
  },
  {
   "cell_type": "code",
   "execution_count": 343,
   "metadata": {
    "collapsed": false
   },
   "outputs": [],
   "source": [
    "#feat=np.array(demographics_clean).astype(float)\n",
    "feat=np.array(demographics_clean).astype(float)\n",
    "\n",
    "labels=np.array(winning_group['All votations'])"
   ]
  },
  {
   "cell_type": "code",
   "execution_count": 344,
   "metadata": {
    "collapsed": false
   },
   "outputs": [
    {
     "name": "stdout",
     "output_type": "stream",
     "text": [
      "0.883333333333 0.236290781313\n",
      "['Main language in % French_2013' 'Main language in % German_2013'\n",
      " 'Age distribution in % 0–19_2014'\n",
      " 'Utilised agricultural area per farm in ha_2014'\n",
      " 'Unemployment rate (according to SECO)_2015' 'Crude marriage rate_2014'\n",
      " 'Upper secondary education (aged 25 or over)_2013'\n",
      " 'pop_age_total_2011-2014' 'Average per capita living space in m²_2013'\n",
      " 'Without post-compulsory education (aged 25 or over)_2013']\n"
     ]
    }
   ],
   "source": [
    "# Build the classifier with default parameters:\n",
    "classifier = RandomForestClassifier(max_depth = None , n_estimators = 500) \n",
    "\n",
    "#find the index for the features\n",
    "feat_indexes = demographics_clean.columns.tolist()\n",
    "\n",
    "#classify and compute accuracy\n",
    "accuracy, classifier = build_RF(10,feat,labels,classifier)\n",
    "\n",
    "# Display accuracy\n",
    "mean_acc=np.mean(accuracy)\n",
    "std_acc=np.std(accuracy)\n",
    "print(mean_acc,std_acc)\n",
    "\n",
    "# Study feature importance\n",
    "feat_imp = classifier.feature_importances_\n",
    "n_weights = 10#np.shape(features)[1] # determine number of weights\n",
    "\n",
    "indices = np.argsort(feat_imp)[::-1]\n",
    "labels = np.array(feat_indexes)[indices][:n_weights]\n",
    "print(np.array(feat_indexes)[indices][:n_weights])\n",
    "\n"
   ]
  },
  {
   "cell_type": "code",
   "execution_count": 357,
   "metadata": {
    "collapsed": false
   },
   "outputs": [
    {
     "data": {
      "image/png": "[encoded data removed]",
      "text/plain": [
       "<matplotlib.figure.Figure at 0x11f8b8ba8>"
      ]
     },
     "metadata": {},
     "output_type": "display_data"
    }
   ],
   "source": [
    "# Plot feature importances\n",
    "fig=plt.figure()\n",
    "width = 0.55\n",
    "ind=np.arange(n_weights)\n",
    "labels=['Main language French', 'Main language German',\n",
    " 'Age 0–19',\n",
    " 'Agricultural area',\n",
    " 'Unemployment rate', 'Marriage rate',\n",
    " 'Upper secondary education',\n",
    " 'population age', 'Average living space',\n",
    " 'No post-compulsory education']\n",
    "plt.bar(range(n_weights),feat_imp[indices][:n_weights],width)\n",
    "plt.ylabel('Relative importance')\n",
    "plt.title('Feature Importances of RandomForrest classifier \\n predicting the outcome of all votations')\n",
    "plt.xticks(ind+width/ 2, labels, rotation = 'vertical')\n",
    "plt.gcf().subplots_adjust(bottom=0.15)\n",
    "fig.savefig('RF_allvotations.png', format='png')"
   ]
  }
 ],
 "metadata": {
  "anaconda-cloud": {},
  "kernelspec": {
   "display_name": "Python 3",
   "language": "python",
   "name": "python3"
  },
  "language_info": {
   "codemirror_mode": {
    "name": "ipython",
    "version": 3
   },
   "file_extension": ".py",
   "mimetype": "text/x-python",
   "name": "python",
   "nbconvert_exporter": "python",
   "pygments_lexer": "ipython3",
   "version": "3.5.2"
  }
 },
 "nbformat": 4,
 "nbformat_minor": 1
}
