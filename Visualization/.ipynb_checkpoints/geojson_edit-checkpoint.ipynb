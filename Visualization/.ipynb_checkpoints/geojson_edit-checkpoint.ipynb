{
 "cells": [
  {
   "cell_type": "markdown",
   "metadata": {},
   "source": [
    "# Adding properties to cantons"
   ]
  },
  {
   "cell_type": "markdown",
   "metadata": {},
   "source": [
    "Script to add information (demographics, votations...) to the cantons in the geojson file. "
   ]
  },
  {
   "cell_type": "code",
   "execution_count": 1,
   "metadata": {
    "collapsed": true
   },
   "outputs": [],
   "source": [
    "import os\n",
    "import json\n",
    "import numpy as np\n",
    "import pandas as pd"
   ]
  },
  {
   "cell_type": "markdown",
   "metadata": {},
   "source": [
    "### Visualize info for a single canton"
   ]
  },
  {
   "cell_type": "code",
   "execution_count": 2,
   "metadata": {
    "collapsed": false
   },
   "outputs": [],
   "source": [
    "with open('cantons_geo.json','r') as json_data:\n",
    "    d = json.load(json_data)"
   ]
  },
  {
   "cell_type": "code",
   "execution_count": 3,
   "metadata": {
    "collapsed": false
   },
   "outputs": [
    {
     "data": {
      "text/plain": [
       "{'name': 'ZÃ¼rich'}"
      ]
     },
     "execution_count": 3,
     "metadata": {},
     "output_type": "execute_result"
    }
   ],
   "source": [
    "# To obtain properties of a single canton\n",
    "d['features'][0]['properties']"
   ]
  },
  {
   "cell_type": "markdown",
   "metadata": {},
   "source": [
    "### Load demographics table"
   ]
  },
  {
   "cell_type": "code",
   "execution_count": 4,
   "metadata": {
    "collapsed": false
   },
   "outputs": [
    {
     "data": {
      "text/html": [
       "<div>\n",
       "<table border=\"1\" class=\"dataframe\">\n",
       "  <thead>\n",
       "    <tr style=\"text-align: right;\">\n",
       "      <th></th>\n",
       "      <th>education_expense_total_2005</th>\n",
       "      <th>education_expense_per_hab_2005</th>\n",
       "      <th>education_expense_percent_total_2005</th>\n",
       "      <th>education_expense_total_2006</th>\n",
       "      <th>education_expense_per_hab_2006</th>\n",
       "      <th>education_expense_percent_total_2006</th>\n",
       "      <th>education_expense_total_2007</th>\n",
       "      <th>education_expense_per_hab_2007</th>\n",
       "      <th>education_expense_percent_total_2007</th>\n",
       "      <th>education_expense_total_2008</th>\n",
       "      <th>...</th>\n",
       "      <th>Marital status Single_2015</th>\n",
       "      <th>Marital status Married_2015</th>\n",
       "      <th>Marital status Widowed_2015</th>\n",
       "      <th>Marital status Divorced_2015</th>\n",
       "      <th>Marital status Unmarried_2015</th>\n",
       "      <th>Marital status In a registered partnership_2015</th>\n",
       "      <th>Marital status Partnership dissolved_2015</th>\n",
       "      <th>Urban core area_2015</th>\n",
       "      <th>Area influenced by urban cores_2015</th>\n",
       "      <th>Area beyond urban core influence_2015</th>\n",
       "    </tr>\n",
       "  </thead>\n",
       "  <tbody>\n",
       "    <tr>\n",
       "      <th>Switzerland</th>\n",
       "      <td>25439824</td>\n",
       "      <td>85232</td>\n",
       "      <td>NaN</td>\n",
       "      <td>25958896</td>\n",
       "      <td>87069</td>\n",
       "      <td>NaN</td>\n",
       "      <td>24629018.0</td>\n",
       "      <td>84687.0</td>\n",
       "      <td>NaN</td>\n",
       "      <td>25942829.0</td>\n",
       "      <td>...</td>\n",
       "      <td>3650651</td>\n",
       "      <td>3568702</td>\n",
       "      <td>407151</td>\n",
       "      <td>684114</td>\n",
       "      <td>563</td>\n",
       "      <td>14306</td>\n",
       "      <td>1446</td>\n",
       "      <td>5224160.0</td>\n",
       "      <td>1812583.0</td>\n",
       "      <td>1290383.0</td>\n",
       "    </tr>\n",
       "    <tr>\n",
       "      <th>VD</th>\n",
       "      <td>2133485</td>\n",
       "      <td>3262</td>\n",
       "      <td>21.0</td>\n",
       "      <td>2108339</td>\n",
       "      <td>3184</td>\n",
       "      <td>20.8</td>\n",
       "      <td>2084340.0</td>\n",
       "      <td>3102.0</td>\n",
       "      <td>20.2</td>\n",
       "      <td>2444424.0</td>\n",
       "      <td>...</td>\n",
       "      <td>353300</td>\n",
       "      <td>318102</td>\n",
       "      <td>34604</td>\n",
       "      <td>65634</td>\n",
       "      <td>51</td>\n",
       "      <td>1533</td>\n",
       "      <td>159</td>\n",
       "      <td>479658.0</td>\n",
       "      <td>213338.0</td>\n",
       "      <td>80411.0</td>\n",
       "    </tr>\n",
       "    <tr>\n",
       "      <th>VS</th>\n",
       "      <td>785819</td>\n",
       "      <td>2695</td>\n",
       "      <td>22.7</td>\n",
       "      <td>824702</td>\n",
       "      <td>2799</td>\n",
       "      <td>22.9</td>\n",
       "      <td>872913.0</td>\n",
       "      <td>2924.0</td>\n",
       "      <td>22.7</td>\n",
       "      <td>893812.0</td>\n",
       "      <td>...</td>\n",
       "      <td>142216</td>\n",
       "      <td>148810</td>\n",
       "      <td>18126</td>\n",
       "      <td>26148</td>\n",
       "      <td>33</td>\n",
       "      <td>312</td>\n",
       "      <td>35</td>\n",
       "      <td>173187.0</td>\n",
       "      <td>79551.0</td>\n",
       "      <td>82958.0</td>\n",
       "    </tr>\n",
       "    <tr>\n",
       "      <th>GE</th>\n",
       "      <td>2072431</td>\n",
       "      <td>4812</td>\n",
       "      <td>21.9</td>\n",
       "      <td>2094373</td>\n",
       "      <td>4834</td>\n",
       "      <td>21.9</td>\n",
       "      <td>2094790.0</td>\n",
       "      <td>4781.0</td>\n",
       "      <td>21.7</td>\n",
       "      <td>2193450.0</td>\n",
       "      <td>...</td>\n",
       "      <td>224586</td>\n",
       "      <td>192263</td>\n",
       "      <td>20467</td>\n",
       "      <td>45916</td>\n",
       "      <td>62</td>\n",
       "      <td>1294</td>\n",
       "      <td>137</td>\n",
       "      <td>441772.0</td>\n",
       "      <td>42964.0</td>\n",
       "      <td>NaN</td>\n",
       "    </tr>\n",
       "    <tr>\n",
       "      <th>BE</th>\n",
       "      <td>2919376</td>\n",
       "      <td>3050</td>\n",
       "      <td>23.2</td>\n",
       "      <td>3033431</td>\n",
       "      <td>3163</td>\n",
       "      <td>23.8</td>\n",
       "      <td>3069599.0</td>\n",
       "      <td>3188.0</td>\n",
       "      <td>23.0</td>\n",
       "      <td>3196015.0</td>\n",
       "      <td>...</td>\n",
       "      <td>437186</td>\n",
       "      <td>437850</td>\n",
       "      <td>56477</td>\n",
       "      <td>84190</td>\n",
       "      <td>55</td>\n",
       "      <td>1522</td>\n",
       "      <td>177</td>\n",
       "      <td>531765.0</td>\n",
       "      <td>225656.0</td>\n",
       "      <td>260062.0</td>\n",
       "    </tr>\n",
       "  </tbody>\n",
       "</table>\n",
       "<p>5 rows × 331 columns</p>\n",
       "</div>"
      ],
      "text/plain": [
       "             education_expense_total_2005  education_expense_per_hab_2005  \\\n",
       "Switzerland                      25439824                           85232   \n",
       "VD                                2133485                            3262   \n",
       "VS                                 785819                            2695   \n",
       "GE                                2072431                            4812   \n",
       "BE                                2919376                            3050   \n",
       "\n",
       "             education_expense_percent_total_2005  \\\n",
       "Switzerland                                   NaN   \n",
       "VD                                           21.0   \n",
       "VS                                           22.7   \n",
       "GE                                           21.9   \n",
       "BE                                           23.2   \n",
       "\n",
       "             education_expense_total_2006  education_expense_per_hab_2006  \\\n",
       "Switzerland                      25958896                           87069   \n",
       "VD                                2108339                            3184   \n",
       "VS                                 824702                            2799   \n",
       "GE                                2094373                            4834   \n",
       "BE                                3033431                            3163   \n",
       "\n",
       "             education_expense_percent_total_2006  \\\n",
       "Switzerland                                   NaN   \n",
       "VD                                           20.8   \n",
       "VS                                           22.9   \n",
       "GE                                           21.9   \n",
       "BE                                           23.8   \n",
       "\n",
       "             education_expense_total_2007  education_expense_per_hab_2007  \\\n",
       "Switzerland                    24629018.0                         84687.0   \n",
       "VD                              2084340.0                          3102.0   \n",
       "VS                               872913.0                          2924.0   \n",
       "GE                              2094790.0                          4781.0   \n",
       "BE                              3069599.0                          3188.0   \n",
       "\n",
       "             education_expense_percent_total_2007  \\\n",
       "Switzerland                                   NaN   \n",
       "VD                                           20.2   \n",
       "VS                                           22.7   \n",
       "GE                                           21.7   \n",
       "BE                                           23.0   \n",
       "\n",
       "             education_expense_total_2008  \\\n",
       "Switzerland                    25942829.0   \n",
       "VD                              2444424.0   \n",
       "VS                               893812.0   \n",
       "GE                              2193450.0   \n",
       "BE                              3196015.0   \n",
       "\n",
       "                             ...                    \\\n",
       "Switzerland                  ...                     \n",
       "VD                           ...                     \n",
       "VS                           ...                     \n",
       "GE                           ...                     \n",
       "BE                           ...                     \n",
       "\n",
       "             Marital status Single_2015  Marital status Married_2015  \\\n",
       "Switzerland                     3650651                      3568702   \n",
       "VD                               353300                       318102   \n",
       "VS                               142216                       148810   \n",
       "GE                               224586                       192263   \n",
       "BE                               437186                       437850   \n",
       "\n",
       "             Marital status Widowed_2015  Marital status Divorced_2015  \\\n",
       "Switzerland                       407151                        684114   \n",
       "VD                                 34604                         65634   \n",
       "VS                                 18126                         26148   \n",
       "GE                                 20467                         45916   \n",
       "BE                                 56477                         84190   \n",
       "\n",
       "             Marital status Unmarried_2015  \\\n",
       "Switzerland                            563   \n",
       "VD                                      51   \n",
       "VS                                      33   \n",
       "GE                                      62   \n",
       "BE                                      55   \n",
       "\n",
       "             Marital status In a registered partnership_2015  \\\n",
       "Switzerland                                            14306   \n",
       "VD                                                      1533   \n",
       "VS                                                       312   \n",
       "GE                                                      1294   \n",
       "BE                                                      1522   \n",
       "\n",
       "             Marital status Partnership dissolved_2015  Urban core area_2015  \\\n",
       "Switzerland                                       1446             5224160.0   \n",
       "VD                                                 159              479658.0   \n",
       "VS                                                  35              173187.0   \n",
       "GE                                                 137              441772.0   \n",
       "BE                                                 177              531765.0   \n",
       "\n",
       "             Area influenced by urban cores_2015  \\\n",
       "Switzerland                            1812583.0   \n",
       "VD                                      213338.0   \n",
       "VS                                       79551.0   \n",
       "GE                                       42964.0   \n",
       "BE                                      225656.0   \n",
       "\n",
       "             Area beyond urban core influence_2015  \n",
       "Switzerland                              1290383.0  \n",
       "VD                                         80411.0  \n",
       "VS                                         82958.0  \n",
       "GE                                             NaN  \n",
       "BE                                        260062.0  \n",
       "\n",
       "[5 rows x 331 columns]"
      ]
     },
     "execution_count": 4,
     "metadata": {},
     "output_type": "execute_result"
    }
   ],
   "source": [
    "demographics=pd.read_excel('all_demographics.xlsx',index_col=0,sheetname='Sheet1',header=[0])\n",
    "demographics.head()"
   ]
  },
  {
   "cell_type": "code",
   "execution_count": 5,
   "metadata": {
    "collapsed": false
   },
   "outputs": [],
   "source": [
    "properties = demographics.columns"
   ]
  },
  {
   "cell_type": "markdown",
   "metadata": {},
   "source": [
    "### Add properties to all cantons"
   ]
  },
  {
   "cell_type": "code",
   "execution_count": 6,
   "metadata": {
    "collapsed": false
   },
   "outputs": [],
   "source": [
    "for i, canton_data in enumerate(d['features']):  # for each canton\n",
    "    \n",
    "    canton_id = d['features'][i]['id']\n",
    "    canton_values = demographics.loc[canton_id]\n",
    "    \n",
    "    # /!\\ NOTE! THE ACCENTS NEED TO GET FIXED IN THE FOLLOWING CASES. DECODING ISSUES\n",
    "    \n",
    "    if canton_id == 'ZH':\n",
    "        d['features'][i]['properties']['name'] = 'Zurich'\n",
    "    elif canton_id == 'GR':\n",
    "        d['features'][i]['properties']['name'] = 'Graubunden/Grigioni'\n",
    "    elif canton_id == 'NE':\n",
    "        d['features'][i]['properties']['name'] = 'Neuchatel'\n",
    "    elif canton_id == 'GE':\n",
    "        d['features'][i]['properties']['name'] = 'Geneve'\n",
    "    \n",
    "    for ii, prop in enumerate(properties):  # for each property\n",
    "        \n",
    "        if ii< 5: # only add the 5 first properties to try            \n",
    "            prop_value = float(canton_values[ii])\n",
    "            d['features'][i]['properties'][prop] =  prop_value"
   ]
  },
  {
   "cell_type": "markdown",
   "metadata": {},
   "source": [
    "### Export data to json file"
   ]
  },
  {
   "cell_type": "code",
   "execution_count": 7,
   "metadata": {
    "collapsed": false
   },
   "outputs": [],
   "source": [
    "# Get .json file\n",
    "with open('cantons_geo_properties.json','w') as json_data_properties:\n",
    "    json.dump(d, json_data_properties)"
   ]
  },
  {
   "cell_type": "markdown",
   "metadata": {},
   "source": [
    "IMPORTANT NOTE: Things to do before being able to display in map\n",
    "    \n",
    "<ul>\n",
    "<li> write \"var statesData = \" at the very beginning of our json file </li>\n",
    "<li> save the file as .js </li>\n",
    "<li> change the name in choropleth html script for our new .js file </li>\n",
    "</ul>"
   ]
  },
  {
   "cell_type": "code",
   "execution_count": 8,
   "metadata": {
    "collapsed": false
   },
   "outputs": [],
   "source": [
    "# Automatically get .js file\n",
    "with open('cantons_geo_properties.js','w') as json_data_properties:\n",
    "    json_data_properties.write('var statesData = ')\n",
    "    json.dump(d, json_data_properties)"
   ]
  },
  {
   "cell_type": "code",
   "execution_count": null,
   "metadata": {
    "collapsed": true
   },
   "outputs": [],
   "source": []
  }
 ],
 "metadata": {
  "anaconda-cloud": {},
  "kernelspec": {
   "display_name": "Python [conda root]",
   "language": "python",
   "name": "conda-root-py"
  },
  "language_info": {
   "codemirror_mode": {
    "name": "ipython",
    "version": 3
   },
   "file_extension": ".py",
   "mimetype": "text/x-python",
   "name": "python",
   "nbconvert_exporter": "python",
   "pygments_lexer": "ipython3",
   "version": "3.5.2"
  }
 },
 "nbformat": 4,
 "nbformat_minor": 0
}
