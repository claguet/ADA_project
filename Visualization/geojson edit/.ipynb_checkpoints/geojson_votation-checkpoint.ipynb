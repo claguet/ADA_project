{
 "cells": [
  {
   "cell_type": "markdown",
   "metadata": {},
   "source": [
    "# Adding votation to cantons"
   ]
  },
  {
   "cell_type": "code",
   "execution_count": 1,
   "metadata": {
    "collapsed": true
   },
   "outputs": [],
   "source": [
    "import os\n",
    "import json\n",
    "import numpy as np\n",
    "import pandas as pd"
   ]
  },
  {
   "cell_type": "markdown",
   "metadata": {},
   "source": [
    "### Visualize info for a single canton"
   ]
  },
  {
   "cell_type": "code",
   "execution_count": 2,
   "metadata": {
    "collapsed": false
   },
   "outputs": [
    {
     "ename": "FileNotFoundError",
     "evalue": "[Errno 2] No such file or directory: 'cantons_geo.json'",
     "output_type": "error",
     "traceback": [
      "\u001b[0;31m---------------------------------------------------------------------------\u001b[0m",
      "\u001b[0;31mFileNotFoundError\u001b[0m                         Traceback (most recent call last)",
      "\u001b[0;32m<ipython-input-2-24506aed5116>\u001b[0m in \u001b[0;36m<module>\u001b[0;34m()\u001b[0m\n\u001b[0;32m----> 1\u001b[0;31m \u001b[0;32mwith\u001b[0m \u001b[0mopen\u001b[0m\u001b[0;34m(\u001b[0m\u001b[0;34m'cantons_geo.json'\u001b[0m\u001b[0;34m,\u001b[0m\u001b[0;34m'r'\u001b[0m\u001b[0;34m)\u001b[0m \u001b[0;32mas\u001b[0m \u001b[0mjson_data\u001b[0m\u001b[0;34m:\u001b[0m\u001b[0;34m\u001b[0m\u001b[0m\n\u001b[0m\u001b[1;32m      2\u001b[0m     \u001b[0md\u001b[0m \u001b[0;34m=\u001b[0m \u001b[0mjson\u001b[0m\u001b[0;34m.\u001b[0m\u001b[0mload\u001b[0m\u001b[0;34m(\u001b[0m\u001b[0mjson_data\u001b[0m\u001b[0;34m)\u001b[0m\u001b[0;34m\u001b[0m\u001b[0m\n",
      "\u001b[0;31mFileNotFoundError\u001b[0m: [Errno 2] No such file or directory: 'cantons_geo.json'"
     ]
    }
   ],
   "source": [
    "with open('cantons_geo.json','r') as json_data:\n",
    "    d = json.load(json_data)"
   ]
  },
  {
   "cell_type": "code",
   "execution_count": 3,
   "metadata": {
    "collapsed": false
   },
   "outputs": [
    {
     "ename": "NameError",
     "evalue": "name 'd' is not defined",
     "output_type": "error",
     "traceback": [
      "\u001b[0;31m---------------------------------------------------------------------------\u001b[0m",
      "\u001b[0;31mNameError\u001b[0m                                 Traceback (most recent call last)",
      "\u001b[0;32m<ipython-input-3-ed0ccca13ff2>\u001b[0m in \u001b[0;36m<module>\u001b[0;34m()\u001b[0m\n\u001b[1;32m      1\u001b[0m \u001b[0;31m# To obtain properties of a single canton\u001b[0m\u001b[0;34m\u001b[0m\u001b[0;34m\u001b[0m\u001b[0m\n\u001b[0;32m----> 2\u001b[0;31m \u001b[0md\u001b[0m\u001b[0;34m[\u001b[0m\u001b[0;34m'features'\u001b[0m\u001b[0;34m]\u001b[0m\u001b[0;34m[\u001b[0m\u001b[0;36m0\u001b[0m\u001b[0;34m]\u001b[0m\u001b[0;34m[\u001b[0m\u001b[0;34m'properties'\u001b[0m\u001b[0;34m]\u001b[0m\u001b[0;34m\u001b[0m\u001b[0m\n\u001b[0m",
      "\u001b[0;31mNameError\u001b[0m: name 'd' is not defined"
     ]
    }
   ],
   "source": [
    "# To obtain properties of a single canton\n",
    "d['features'][0]['properties']"
   ]
  },
  {
   "cell_type": "markdown",
   "metadata": {},
   "source": [
    "### Load votation table"
   ]
  },
  {
   "cell_type": "code",
   "execution_count": null,
   "metadata": {
    "collapsed": false
   },
   "outputs": [],
   "source": [
    "votation=pd.read_excel('Winning_group_vot_type_str.xlsx',index_col=0,sheetname='Sheet1',header=[0])\n",
    "votation = votation.rename(columns = {'All votations':'all'})\n",
    "votation = votation.round(decimals=2)\n",
    "votation.head()"
   ]
  },
  {
   "cell_type": "code",
   "execution_count": null,
   "metadata": {
    "collapsed": true
   },
   "outputs": [],
   "source": [
    "winner = votation.columns"
   ]
  },
  {
   "cell_type": "markdown",
   "metadata": {},
   "source": [
    "#### with votation score"
   ]
  },
  {
   "cell_type": "code",
   "execution_count": null,
   "metadata": {
    "collapsed": false
   },
   "outputs": [],
   "source": [
    "votation_score=pd.read_excel('scores_party_vot_type.xlsx',index_col=0,sheetname='Sheet1',header=[0])\n",
    "votation_score = votation_score.rename(columns = {'All votations':'all_score', 'Economie':'Economie_score', \n",
    "                                                 'Education':'Education_score', 'Environnement':'Environnement_score',\n",
    "                                                 'Environnement':'Environnement_score', 'Immigration':'Immigration_score',\n",
    "                                                 'Sante':'Sante_score', 'Securite':'Securite_score', 'Social':\n",
    "                                                  'Social_score', 'Travail':'Travail_score'})\n",
    "votation_score = votation_score.round(decimals=2)\n",
    "votation_score.head()"
   ]
  },
  {
   "cell_type": "code",
   "execution_count": null,
   "metadata": {
    "collapsed": true
   },
   "outputs": [],
   "source": [
    "score = votation_score.columns"
   ]
  },
  {
   "cell_type": "markdown",
   "metadata": {},
   "source": [
    "### Add properties to all cantons"
   ]
  },
  {
   "cell_type": "code",
   "execution_count": null,
   "metadata": {
    "collapsed": false
   },
   "outputs": [],
   "source": [
    "for i, canton_data in enumerate(d['features']):  # for each canton\n",
    "    \n",
    "    canton_id = d['features'][i]['id']\n",
    "    canton_values = votation.loc[canton_id]\n",
    "    canton_values_2 = votation_score.loc[canton_id]\n",
    "    \n",
    "    # /!\\ NOTE! THE ACCENTS NEED TO GET FIXED IN THE FOLLOWING CASES. DECODING ISSUES\n",
    "    \n",
    "    if canton_id == 'ZH':\n",
    "        d['features'][i]['properties']['name'] = 'Zurich'\n",
    "    elif canton_id == 'GR':\n",
    "        d['features'][i]['properties']['name'] = 'Graubunden/Grigioni'\n",
    "    elif canton_id == 'NE':\n",
    "        d['features'][i]['properties']['name'] = 'Neuchatel'\n",
    "    elif canton_id == 'GE':\n",
    "        d['features'][i]['properties']['name'] = 'Geneve'\n",
    "    \n",
    "    for ii, prop in enumerate(winner):  # for each property\n",
    "        prop_value = str(canton_values[ii])\n",
    "        d['features'][i]['properties'][prop] =  prop_value\n",
    "        \n",
    "    for jj, prop2 in enumerate(score):\n",
    "        prop_value_2 = float(canton_values_2[jj])\n",
    "        d['features'][i]['properties'][prop2] = prop_value_2"
   ]
  },
  {
   "cell_type": "code",
   "execution_count": null,
   "metadata": {
    "collapsed": true
   },
   "outputs": [],
   "source": []
  },
  {
   "cell_type": "markdown",
   "metadata": {},
   "source": [
    "### Export data to json file"
   ]
  },
  {
   "cell_type": "code",
   "execution_count": null,
   "metadata": {
    "collapsed": true
   },
   "outputs": [],
   "source": [
    "# Get .json file\n",
    "with open('cantons_votation.json','w') as json_data_votation:\n",
    "    json.dump(d, json_data_votation)"
   ]
  },
  {
   "cell_type": "markdown",
   "metadata": {},
   "source": [
    "IMPORTANT NOTE: Things to do before being able to display in map\n",
    "    \n",
    "<ul>\n",
    "<li> write \"var statesData = \" at the very beginning of our json file </li>\n",
    "<li> save the file as .js </li>\n",
    "<li> change the name in choropleth html script for our new .js file </li>\n",
    "</ul>"
   ]
  },
  {
   "cell_type": "code",
   "execution_count": null,
   "metadata": {
    "collapsed": true
   },
   "outputs": [],
   "source": [
    "# Automatically get .js file\n",
    "with open('cantons_votation.js','w') as json_data_votation:\n",
    "    json_data_votation.write('var statesData2 = ')\n",
    "    json.dump(d, json_data_votation)"
   ]
  },
  {
   "cell_type": "code",
   "execution_count": null,
   "metadata": {
    "collapsed": true
   },
   "outputs": [],
   "source": []
  },
  {
   "cell_type": "code",
   "execution_count": null,
   "metadata": {
    "collapsed": true
   },
   "outputs": [],
   "source": []
  },
  {
   "cell_type": "code",
   "execution_count": null,
   "metadata": {
    "collapsed": true
   },
   "outputs": [],
   "source": []
  }
 ],
 "metadata": {
  "anaconda-cloud": {},
  "kernelspec": {
   "display_name": "Python [conda root]",
   "language": "python",
   "name": "conda-root-py"
  },
  "language_info": {
   "codemirror_mode": {
    "name": "ipython",
    "version": 3
   },
   "file_extension": ".py",
   "mimetype": "text/x-python",
   "name": "python",
   "nbconvert_exporter": "python",
   "pygments_lexer": "ipython3",
   "version": "3.5.2"
  }
 },
 "nbformat": 4,
 "nbformat_minor": 1
}
