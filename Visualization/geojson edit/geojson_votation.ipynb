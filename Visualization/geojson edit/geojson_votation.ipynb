{
 "cells": [
  {
   "cell_type": "markdown",
   "metadata": {},
   "source": [
    "# Adding votation to cantons"
   ]
  },
  {
   "cell_type": "code",
   "execution_count": 1,
   "metadata": {
    "collapsed": true
   },
   "outputs": [],
   "source": [
    "import os\n",
    "import json\n",
    "import numpy as np\n",
    "import pandas as pd"
   ]
  },
  {
   "cell_type": "markdown",
   "metadata": {},
   "source": [
    "### Visualize info for a single canton"
   ]
  },
  {
   "cell_type": "code",
   "execution_count": 2,
   "metadata": {
    "collapsed": false
   },
   "outputs": [],
   "source": [
    "with open('cantons_geo.json','r') as json_data:\n",
    "    d = json.load(json_data)"
   ]
  },
  {
   "cell_type": "code",
   "execution_count": 3,
   "metadata": {
    "collapsed": false
   },
   "outputs": [
    {
     "data": {
      "text/plain": [
       "{'name': 'Zürich'}"
      ]
     },
     "execution_count": 3,
     "metadata": {},
     "output_type": "execute_result"
    }
   ],
   "source": [
    "# To obtain properties of a single canton\n",
    "d['features'][0]['properties']"
   ]
  },
  {
   "cell_type": "markdown",
   "metadata": {},
   "source": [
    "### Load votation table"
   ]
  },
  {
   "cell_type": "code",
   "execution_count": 4,
   "metadata": {
    "collapsed": false
   },
   "outputs": [
    {
     "data": {
      "text/html": [
       "<div>\n",
       "<table border=\"1\" class=\"dataframe\">\n",
       "  <thead>\n",
       "    <tr style=\"text-align: right;\">\n",
       "      <th></th>\n",
       "      <th>all</th>\n",
       "      <th>Economie</th>\n",
       "      <th>Education</th>\n",
       "      <th>Environnement</th>\n",
       "      <th>Immigration</th>\n",
       "      <th>Sante</th>\n",
       "      <th>Securite</th>\n",
       "      <th>Social</th>\n",
       "      <th>Travail</th>\n",
       "    </tr>\n",
       "  </thead>\n",
       "  <tbody>\n",
       "    <tr>\n",
       "      <th>ZH</th>\n",
       "      <td>Right</td>\n",
       "      <td>Right</td>\n",
       "      <td>Right</td>\n",
       "      <td>Left</td>\n",
       "      <td>Right</td>\n",
       "      <td>Right</td>\n",
       "      <td>Equality</td>\n",
       "      <td>Left</td>\n",
       "      <td>Right</td>\n",
       "    </tr>\n",
       "    <tr>\n",
       "      <th>BE</th>\n",
       "      <td>Right</td>\n",
       "      <td>Right</td>\n",
       "      <td>Right</td>\n",
       "      <td>Left</td>\n",
       "      <td>Right</td>\n",
       "      <td>Right</td>\n",
       "      <td>Right</td>\n",
       "      <td>Left</td>\n",
       "      <td>Right</td>\n",
       "    </tr>\n",
       "    <tr>\n",
       "      <th>LU</th>\n",
       "      <td>Right</td>\n",
       "      <td>Right</td>\n",
       "      <td>Right</td>\n",
       "      <td>Equality</td>\n",
       "      <td>Right</td>\n",
       "      <td>Right</td>\n",
       "      <td>Right</td>\n",
       "      <td>Left</td>\n",
       "      <td>Right</td>\n",
       "    </tr>\n",
       "    <tr>\n",
       "      <th>UR</th>\n",
       "      <td>Right</td>\n",
       "      <td>Right</td>\n",
       "      <td>Right</td>\n",
       "      <td>Equality</td>\n",
       "      <td>Right</td>\n",
       "      <td>Right</td>\n",
       "      <td>Right</td>\n",
       "      <td>Left</td>\n",
       "      <td>Right</td>\n",
       "    </tr>\n",
       "    <tr>\n",
       "      <th>SZ</th>\n",
       "      <td>Right</td>\n",
       "      <td>Right</td>\n",
       "      <td>Right</td>\n",
       "      <td>Equality</td>\n",
       "      <td>Right</td>\n",
       "      <td>Right</td>\n",
       "      <td>Right</td>\n",
       "      <td>Left</td>\n",
       "      <td>Right</td>\n",
       "    </tr>\n",
       "  </tbody>\n",
       "</table>\n",
       "</div>"
      ],
      "text/plain": [
       "      all Economie Education Environnement Immigration  Sante  Securite  \\\n",
       "ZH  Right    Right     Right          Left       Right  Right  Equality   \n",
       "BE  Right    Right     Right          Left       Right  Right     Right   \n",
       "LU  Right    Right     Right      Equality       Right  Right     Right   \n",
       "UR  Right    Right     Right      Equality       Right  Right     Right   \n",
       "SZ  Right    Right     Right      Equality       Right  Right     Right   \n",
       "\n",
       "   Social Travail  \n",
       "ZH   Left   Right  \n",
       "BE   Left   Right  \n",
       "LU   Left   Right  \n",
       "UR   Left   Right  \n",
       "SZ   Left   Right  "
      ]
     },
     "execution_count": 4,
     "metadata": {},
     "output_type": "execute_result"
    }
   ],
   "source": [
    "votation=pd.read_excel('Winning_group_vot_type_str.xlsx',index_col=0,sheetname='Sheet1',header=[0])\n",
    "votation = votation.rename(columns = {'All votations':'all'})\n",
    "votation.head()"
   ]
  },
  {
   "cell_type": "code",
   "execution_count": 5,
   "metadata": {
    "collapsed": true
   },
   "outputs": [],
   "source": [
    "winner = votation.columns"
   ]
  },
  {
   "cell_type": "markdown",
   "metadata": {},
   "source": [
    "#### with votation score"
   ]
  },
  {
   "cell_type": "code",
   "execution_count": 6,
   "metadata": {
    "collapsed": false
   },
   "outputs": [
    {
     "data": {
      "text/html": [
       "<div>\n",
       "<table border=\"1\" class=\"dataframe\">\n",
       "  <thead>\n",
       "    <tr style=\"text-align: right;\">\n",
       "      <th></th>\n",
       "      <th>all_score</th>\n",
       "      <th>Economie_score</th>\n",
       "      <th>Education_score</th>\n",
       "      <th>Environnement_score</th>\n",
       "      <th>Immigration_score</th>\n",
       "      <th>Sante_score</th>\n",
       "      <th>Securite_score</th>\n",
       "      <th>Social_score</th>\n",
       "      <th>Travail_score</th>\n",
       "    </tr>\n",
       "  </thead>\n",
       "  <tbody>\n",
       "    <tr>\n",
       "      <th>ZH</th>\n",
       "      <td>0.07</td>\n",
       "      <td>0.25</td>\n",
       "      <td>0.33</td>\n",
       "      <td>-0.22</td>\n",
       "      <td>0.33</td>\n",
       "      <td>0.29</td>\n",
       "      <td>0.0</td>\n",
       "      <td>-0.43</td>\n",
       "      <td>0.6</td>\n",
       "    </tr>\n",
       "    <tr>\n",
       "      <th>BE</th>\n",
       "      <td>0.17</td>\n",
       "      <td>0.25</td>\n",
       "      <td>0.33</td>\n",
       "      <td>-0.22</td>\n",
       "      <td>0.33</td>\n",
       "      <td>0.29</td>\n",
       "      <td>0.5</td>\n",
       "      <td>-0.14</td>\n",
       "      <td>0.6</td>\n",
       "    </tr>\n",
       "    <tr>\n",
       "      <th>LU</th>\n",
       "      <td>0.26</td>\n",
       "      <td>0.25</td>\n",
       "      <td>0.33</td>\n",
       "      <td>0.00</td>\n",
       "      <td>0.33</td>\n",
       "      <td>0.29</td>\n",
       "      <td>1.0</td>\n",
       "      <td>-0.14</td>\n",
       "      <td>0.6</td>\n",
       "    </tr>\n",
       "    <tr>\n",
       "      <th>UR</th>\n",
       "      <td>0.21</td>\n",
       "      <td>0.25</td>\n",
       "      <td>0.33</td>\n",
       "      <td>0.00</td>\n",
       "      <td>0.33</td>\n",
       "      <td>0.29</td>\n",
       "      <td>1.0</td>\n",
       "      <td>-0.14</td>\n",
       "      <td>0.2</td>\n",
       "    </tr>\n",
       "    <tr>\n",
       "      <th>SZ</th>\n",
       "      <td>0.26</td>\n",
       "      <td>0.25</td>\n",
       "      <td>0.33</td>\n",
       "      <td>0.00</td>\n",
       "      <td>0.33</td>\n",
       "      <td>0.29</td>\n",
       "      <td>1.0</td>\n",
       "      <td>-0.14</td>\n",
       "      <td>0.6</td>\n",
       "    </tr>\n",
       "  </tbody>\n",
       "</table>\n",
       "</div>"
      ],
      "text/plain": [
       "    all_score  Economie_score  Education_score  Environnement_score  \\\n",
       "ZH       0.07            0.25             0.33                -0.22   \n",
       "BE       0.17            0.25             0.33                -0.22   \n",
       "LU       0.26            0.25             0.33                 0.00   \n",
       "UR       0.21            0.25             0.33                 0.00   \n",
       "SZ       0.26            0.25             0.33                 0.00   \n",
       "\n",
       "    Immigration_score  Sante_score  Securite_score  Social_score  \\\n",
       "ZH               0.33         0.29             0.0         -0.43   \n",
       "BE               0.33         0.29             0.5         -0.14   \n",
       "LU               0.33         0.29             1.0         -0.14   \n",
       "UR               0.33         0.29             1.0         -0.14   \n",
       "SZ               0.33         0.29             1.0         -0.14   \n",
       "\n",
       "    Travail_score  \n",
       "ZH            0.6  \n",
       "BE            0.6  \n",
       "LU            0.6  \n",
       "UR            0.2  \n",
       "SZ            0.6  "
      ]
     },
     "execution_count": 6,
     "metadata": {},
     "output_type": "execute_result"
    }
   ],
   "source": [
    "votation_score=pd.read_excel('scores_party_vot_type.xlsx',index_col=0,sheetname='Sheet1',header=[0])\n",
    "votation_score = votation_score.rename(columns = {'All votations':'all_score', 'Economie':'Economie_score', \n",
    "                                                 'Education':'Education_score', 'Environnement':'Environnement_score',\n",
    "                                                 'Environnement':'Environnement_score', 'Immigration':'Immigration_score',\n",
    "                                                 'Sante':'Sante_score', 'Securite':'Securite_score', 'Social':\n",
    "                                                  'Social_score', 'Travail':'Travail_score'})\n",
    "votation_score = votation_score.round(decimals=2)\n",
    "votation_score.head()"
   ]
  },
  {
   "cell_type": "code",
   "execution_count": 7,
   "metadata": {
    "collapsed": true
   },
   "outputs": [],
   "source": [
    "score = votation_score.columns"
   ]
  },
  {
   "cell_type": "markdown",
   "metadata": {},
   "source": [
    "### Add properties to all cantons"
   ]
  },
  {
   "cell_type": "code",
   "execution_count": 8,
   "metadata": {
    "collapsed": false
   },
   "outputs": [],
   "source": [
    "for i, canton_data in enumerate(d['features']):  # for each canton\n",
    "    \n",
    "    canton_id = d['features'][i]['id']\n",
    "    canton_values = votation.loc[canton_id]\n",
    "    canton_values_2 = votation_score.loc[canton_id]\n",
    "    \n",
    "    # /!\\ NOTE! THE ACCENTS NEED TO GET FIXED IN THE FOLLOWING CASES. DECODING ISSUES\n",
    "    \n",
    "    if canton_id == 'ZH':\n",
    "        d['features'][i]['properties']['name'] = 'Zurich'\n",
    "    elif canton_id == 'GR':\n",
    "        d['features'][i]['properties']['name'] = 'Graubunden/Grigioni'\n",
    "    elif canton_id == 'NE':\n",
    "        d['features'][i]['properties']['name'] = 'Neuchatel'\n",
    "    elif canton_id == 'GE':\n",
    "        d['features'][i]['properties']['name'] = 'Geneve'\n",
    "    \n",
    "    for ii, prop in enumerate(winner):  # for each property\n",
    "        prop_value = str(canton_values[ii])\n",
    "        d['features'][i]['properties'][prop] =  prop_value\n",
    "        \n",
    "    for jj, prop2 in enumerate(score):\n",
    "        prop_value_2 = float(canton_values_2[jj])\n",
    "        d['features'][i]['properties'][prop2] = prop_value_2"
   ]
  },
  {
   "cell_type": "code",
   "execution_count": null,
   "metadata": {
    "collapsed": true
   },
   "outputs": [],
   "source": []
  },
  {
   "cell_type": "markdown",
   "metadata": {},
   "source": [
    "### Export data to json file"
   ]
  },
  {
   "cell_type": "code",
   "execution_count": 9,
   "metadata": {
    "collapsed": true
   },
   "outputs": [],
   "source": [
    "# Get .json file\n",
    "with open('cantons_votation.json','w') as json_data_votation:\n",
    "    json.dump(d, json_data_votation)"
   ]
  },
  {
   "cell_type": "markdown",
   "metadata": {},
   "source": [
    "IMPORTANT NOTE: Things to do before being able to display in map\n",
    "    \n",
    "<ul>\n",
    "<li> write \"var statesData = \" at the very beginning of our json file </li>\n",
    "<li> save the file as .js </li>\n",
    "<li> change the name in choropleth html script for our new .js file </li>\n",
    "</ul>"
   ]
  },
  {
   "cell_type": "code",
   "execution_count": 10,
   "metadata": {
    "collapsed": true
   },
   "outputs": [],
   "source": [
    "# Automatically get .js file\n",
    "with open('cantons_votation.js','w') as json_data_votation:\n",
    "    json_data_votation.write('var statesData2 = ')\n",
    "    json.dump(d, json_data_votation)"
   ]
  },
  {
   "cell_type": "code",
   "execution_count": null,
   "metadata": {
    "collapsed": true
   },
   "outputs": [],
   "source": []
  }
 ],
 "metadata": {
  "anaconda-cloud": {},
  "kernelspec": {
   "display_name": "Python [conda root]",
   "language": "python",
   "name": "conda-root-py"
  },
  "language_info": {
   "codemirror_mode": {
    "name": "ipython",
    "version": 3
   },
   "file_extension": ".py",
   "mimetype": "text/x-python",
   "name": "python",
   "nbconvert_exporter": "python",
   "pygments_lexer": "ipython3",
   "version": "3.5.2"
  }
 },
 "nbformat": 4,
 "nbformat_minor": 1
}
